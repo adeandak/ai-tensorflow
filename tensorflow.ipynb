{
  "nbformat": 4,
  "nbformat_minor": 0,
  "metadata": {
    "colab": {
      "name": "tensorflow.ipynb",
      "provenance": [],
      "collapsed_sections": [],
      "include_colab_link": true
    },
    "kernelspec": {
      "name": "python3",
      "display_name": "Python 3"
    },
    "language_info": {
      "name": "python"
    },
    "accelerator": "GPU"
  },
  "cells": [
    {
      "cell_type": "markdown",
      "metadata": {
        "id": "view-in-github",
        "colab_type": "text"
      },
      "source": [
        "<a href=\"https://colab.research.google.com/github/adeandak/ai-tensorflow/blob/main/tensorflow.ipynb\" target=\"_parent\"><img src=\"https://colab.research.google.com/assets/colab-badge.svg\" alt=\"Open In Colab\"/></a>"
      ]
    },
    {
      "cell_type": "markdown",
      "metadata": {
        "id": "pgTBoSH-JMps"
      },
      "source": [
        "# Single de ABBA\n",
        "BY: @adeandak, @sl-abreu, @luisfm @elmario\n",
        "---\n",
        "\n"
      ]
    },
    {
      "cell_type": "markdown",
      "metadata": {
        "id": "tlCenvLYNH3d"
      },
      "source": [
        "## Imports"
      ]
    },
    {
      "cell_type": "code",
      "metadata": {
        "id": "0Lmknzfx6uSg"
      },
      "source": [
        "# library for understanding music\n",
        "from music21 import *\n",
        "# library for listing down the file names\n",
        "import os\n",
        "# librrary for Array Processing\n",
        "import numpy as np\n",
        "# importing library\n",
        "from collections import Counter\n",
        "# library for visualization\n",
        "import matplotlib.pyplot as plt\n",
        "# library for defining train and test data sets\n",
        "from sklearn.model_selection import train_test_split\n",
        "# keras Libraries for model\n",
        "from keras.layers import *\n",
        "from keras.models import *\n",
        "from keras.callbacks import *\n",
        "from keras.utils import np_utils\n",
        "import keras.backend as K\n",
        "#loading best model\n",
        "from keras.models import load_model\n",
        "import random\n",
        "#tensorflow for the text processing\n",
        "import tensorflow as tf\n",
        "from tensorflow.keras.layers.experimental import preprocessing\n",
        "#library for measuring time\n",
        "import time"
      ],
      "execution_count": null,
      "outputs": []
    },
    {
      "cell_type": "markdown",
      "metadata": {
        "id": "0-BKFntP-hMa"
      },
      "source": [
        "# Text Generation\n"
      ]
    },
    {
      "cell_type": "markdown",
      "metadata": {
        "id": "dXKrVFNAeGoA"
      },
      "source": [
        "## Reading and Processing the data"
      ]
    },
    {
      "cell_type": "code",
      "metadata": {
        "colab": {
          "base_uri": "https://localhost:8080/"
        },
        "id": "FnKgkS3teLwc",
        "outputId": "187993b5-0655-4ea5-d949-95d358f4598f"
      },
      "source": [
        "path_to_file = '/content/abba.txt' #hay que agregar el archivo cada que nos conectamos al Runtime\n",
        "# leer y decodificar el archivo txt \n",
        "text = open(path_to_file, 'rb').read().decode(encoding='utf-8')\n",
        "#para checar que si leyo el txt vamos a imprimir los primeros 300 chars\n",
        "print(text[:300])\n",
        "# buscar los chars unicos, para generar palabras. \n",
        "vocab = sorted(set(text))"
      ],
      "execution_count": null,
      "outputs": [
        {
          "output_type": "stream",
          "text": [
            "Mamma Mia\n",
            "\n",
            "I've been cheated by you since I don't know when\n",
            "So I made up my mind, it must come to an end\n",
            "Look at me now, will I ever learn?\n",
            "I don't know how but I suddenly lose control\n",
            "There's a fire within my soul\n",
            "Just one look and I can hear a bell ring\n",
            "One more look and I forget everything, w-o-o\n"
          ],
          "name": "stdout"
        }
      ]
    },
    {
      "cell_type": "code",
      "metadata": {
        "id": "_FvgYCU6eSBl"
      },
      "source": [
        "#cell by addaku\n",
        "#darle ejemplo de tokens\n",
        "example_texts = ['abcdefg', 'xyz']\n",
        "#procesamos el texto\n",
        "chars = tf.strings.unicode_split(example_texts, input_encoding='UTF-8')\n",
        "#buscamos ahora si con nuestro input\n",
        "ids_from_chars = preprocessing.StringLookup(\n",
        "    vocabulary=list(vocab))\n",
        "#buscamos los ids\n",
        "ids = ids_from_chars(chars)\n",
        "#empezamos a hacer capas con Keras\n",
        "chars_from_ids = tf.keras.layers.experimental.preprocessing.StringLookup(\n",
        "    vocabulary=ids_from_chars.get_vocabulary(), invert=True)\n",
        "#buscamos los chars desde sus ids\n",
        "chars = chars_from_ids(ids)\n",
        "\n",
        "#para armar strings\n",
        "def text_from_ids(ids):\n",
        "  return tf.strings.reduce_join(chars_from_ids(ids), axis=-1)"
      ],
      "execution_count": null,
      "outputs": []
    },
    {
      "cell_type": "code",
      "metadata": {
        "id": "nAnQAZcsjuo1"
      },
      "source": [
        "seq_length = 100\n",
        "ids_dataset = tf.data.Dataset.from_tensor_slices(ids_from_chars(tf.strings.unicode_split(text, 'UTF-8')))\n",
        "sequences = ids_dataset.batch(seq_length+1, drop_remainder=True)\n",
        "\n",
        "def split_input_target(sequence):\n",
        "    input_text = sequence[:-1]\n",
        "    target_text = sequence[1:]\n",
        "    return input_text, target_text\n",
        "\n",
        "dataset = sequences.map(split_input_target)"
      ],
      "execution_count": null,
      "outputs": []
    },
    {
      "cell_type": "markdown",
      "metadata": {
        "id": "UgCm0iSUkN2a"
      },
      "source": [
        "### Create training batches"
      ]
    },
    {
      "cell_type": "code",
      "metadata": {
        "colab": {
          "base_uri": "https://localhost:8080/"
        },
        "id": "kN7z191DkTE9",
        "outputId": "4b2d3e8e-980c-4390-b86f-3fef93c847b3"
      },
      "source": [
        "dataset = sequences.map(split_input_target)\n",
        "\n",
        "# GIVEN NUMS\n",
        "BATCH_SIZE = 32\n",
        "BUFFER_SIZE = 10000\n",
        "\n",
        "dataset = (\n",
        "    dataset\n",
        "    .shuffle(BUFFER_SIZE)\n",
        "    .batch(BATCH_SIZE, drop_remainder=True)\n",
        "    .prefetch(tf.data.experimental.AUTOTUNE))\n",
        "\n",
        "dataset"
      ],
      "execution_count": null,
      "outputs": [
        {
          "output_type": "execute_result",
          "data": {
            "text/plain": [
              "<PrefetchDataset shapes: ((32, 100), (32, 100)), types: (tf.int64, tf.int64)>"
            ]
          },
          "metadata": {
            "tags": []
          },
          "execution_count": 22
        }
      ]
    },
    {
      "cell_type": "markdown",
      "metadata": {
        "id": "sP9mAlWhlddO"
      },
      "source": [
        "## Building the model"
      ]
    },
    {
      "cell_type": "code",
      "metadata": {
        "id": "CPSWE7GWlf6l"
      },
      "source": [
        "#por convencion esto se queda asi\n",
        "vocab_size = len(vocab)\n",
        "embedding_dim = 256\n",
        "rnn_units = 1024"
      ],
      "execution_count": null,
      "outputs": []
    },
    {
      "cell_type": "code",
      "metadata": {
        "id": "Ov2ZoqygmZ7b"
      },
      "source": [
        "class MyModel(tf.keras.Model):\n",
        "  def __init__(self, vocab_size, embedding_dim, rnn_units):\n",
        "    super().__init__(self)\n",
        "    self.embedding = tf.keras.layers.Embedding(vocab_size, embedding_dim)\n",
        "    self.gru = tf.keras.layers.GRU(rnn_units,\n",
        "                                   return_sequences=True,\n",
        "                                   return_state=True)\n",
        "    self.dense = tf.keras.layers.Dense(vocab_size)\n",
        "\n",
        "  def call(self, inputs, states=None, return_state=False, training=False):\n",
        "    x = inputs\n",
        "    x = self.embedding(x, training=training)\n",
        "    if states is None:\n",
        "      states = self.gru.get_initial_state(x)\n",
        "    x, states = self.gru(x, initial_state=states, training=training)\n",
        "    x = self.dense(x, training=training)\n",
        "\n",
        "    if return_state:\n",
        "      return x, states\n",
        "    else:\n",
        "      return x"
      ],
      "execution_count": null,
      "outputs": []
    },
    {
      "cell_type": "code",
      "metadata": {
        "id": "mquOmJCznt3y"
      },
      "source": [
        "model = MyModel(\n",
        "    # Be sure the vocabulary size matches the `StringLookup` layers.\n",
        "    vocab_size=len(ids_from_chars.get_vocabulary()),\n",
        "    embedding_dim=embedding_dim,\n",
        "    rnn_units=rnn_units)"
      ],
      "execution_count": null,
      "outputs": []
    },
    {
      "cell_type": "code",
      "metadata": {
        "colab": {
          "base_uri": "https://localhost:8080/"
        },
        "id": "p4YjxQQIoy0i",
        "outputId": "b7d237ae-e5fc-4eee-8aa6-d3efb653b783"
      },
      "source": [
        "for input_example_batch, target_example_batch in dataset.take(1):\n",
        "    example_batch_predictions = model(input_example_batch)\n",
        "    print(example_batch_predictions.shape, \"# (batch, sequence, vocab)\")"
      ],
      "execution_count": null,
      "outputs": [
        {
          "output_type": "stream",
          "text": [
            "(32, 100, 66) # (batch, sequence, vocab)\n"
          ],
          "name": "stdout"
        }
      ]
    },
    {
      "cell_type": "code",
      "metadata": {
        "colab": {
          "base_uri": "https://localhost:8080/"
        },
        "id": "PLtM05bUnvkB",
        "outputId": "644bf1f1-907a-4b98-d8b0-b92fc468d306"
      },
      "source": [
        "model.summary()"
      ],
      "execution_count": null,
      "outputs": [
        {
          "output_type": "stream",
          "text": [
            "Model: \"my_model_1\"\n",
            "_________________________________________________________________\n",
            "Layer (type)                 Output Shape              Param #   \n",
            "=================================================================\n",
            "embedding_1 (Embedding)      multiple                  16896     \n",
            "_________________________________________________________________\n",
            "gru_1 (GRU)                  multiple                  3938304   \n",
            "_________________________________________________________________\n",
            "dense_1 (Dense)              multiple                  67650     \n",
            "=================================================================\n",
            "Total params: 4,022,850\n",
            "Trainable params: 4,022,850\n",
            "Non-trainable params: 0\n",
            "_________________________________________________________________\n"
          ],
          "name": "stdout"
        }
      ]
    },
    {
      "cell_type": "markdown",
      "metadata": {
        "id": "uercv2Omp3mq"
      },
      "source": [
        "## Train the model"
      ]
    },
    {
      "cell_type": "code",
      "metadata": {
        "colab": {
          "base_uri": "https://localhost:8080/"
        },
        "id": "Z6NjN2Brp5Nc",
        "outputId": "fa8a11f0-a07d-43dd-cb47-bf3055f4e146"
      },
      "source": [
        "#podemos usar esto gracias a Keras\n",
        "loss = tf.losses.SparseCategoricalCrossentropy(from_logits=True)\n",
        "\n",
        "#we will optimize to get the min loss\n",
        "example_batch_loss = loss(target_example_batch, example_batch_predictions)\n",
        "mean_loss = example_batch_loss.numpy().mean()\n",
        "print(\"Prediction shape: \", example_batch_predictions.shape, \" # (batch_size, sequence_length, vocab_size)\")\n",
        "print(\"Mean loss:        \", mean_loss)"
      ],
      "execution_count": null,
      "outputs": [
        {
          "output_type": "stream",
          "text": [
            "Prediction shape:  (32, 100, 66)  # (batch_size, sequence_length, vocab_size)\n",
            "Mean loss:         4.19034\n"
          ],
          "name": "stdout"
        }
      ]
    },
    {
      "cell_type": "markdown",
      "metadata": {
        "id": "GyFyjOAKqexV"
      },
      "source": [
        "Optimize and configure checkpoints \n"
      ]
    },
    {
      "cell_type": "code",
      "metadata": {
        "colab": {
          "base_uri": "https://localhost:8080/"
        },
        "id": "XhC91bL7qOxI",
        "outputId": "70f89744-adbf-4c69-8347-c51e9e13e7fc"
      },
      "source": [
        "model.compile(optimizer='adam', loss=loss, metrics=[\"accuracy\"]) #try different optimizers\n",
        "\n",
        "checkpoint_callback=ModelCheckpoint('/content/text_ckpt.h5', monitor='loss', mode='min', save_best_only=True,verbose=1)\n",
        "history = model.fit(dataset, epochs=80, callbacks=[checkpoint_callback])"
      ],
      "execution_count": null,
      "outputs": [
        {
          "output_type": "stream",
          "text": [
            "Epoch 1/80\n",
            "19/19 [==============================] - 6s 75ms/step - loss: 4.1756 - accuracy: 0.1231\n",
            "\n",
            "Epoch 00001: loss improved from inf to 3.95746, saving model to /Users/robot/Downloads\\text_ckpt.h5\n",
            "Epoch 2/80\n",
            "19/19 [==============================] - 2s 82ms/step - loss: 3.1982 - accuracy: 0.1640\n",
            "\n",
            "Epoch 00002: loss improved from 3.95746 to 3.09876, saving model to /Users/robot/Downloads\\text_ckpt.h5\n",
            "Epoch 3/80\n",
            "19/19 [==============================] - 2s 77ms/step - loss: 2.8465 - accuracy: 0.2515\n",
            "\n",
            "Epoch 00003: loss improved from 3.09876 to 2.76182, saving model to /Users/robot/Downloads\\text_ckpt.h5\n",
            "Epoch 4/80\n",
            "19/19 [==============================] - 2s 80ms/step - loss: 2.5342 - accuracy: 0.3131\n",
            "\n",
            "Epoch 00004: loss improved from 2.76182 to 2.47616, saving model to /Users/robot/Downloads\\text_ckpt.h5\n",
            "Epoch 5/80\n",
            "19/19 [==============================] - 2s 76ms/step - loss: 2.3447 - accuracy: 0.3344\n",
            "\n",
            "Epoch 00005: loss improved from 2.47616 to 2.32533, saving model to /Users/robot/Downloads\\text_ckpt.h5\n",
            "Epoch 6/80\n",
            "19/19 [==============================] - 2s 77ms/step - loss: 2.2449 - accuracy: 0.3558\n",
            "\n",
            "Epoch 00006: loss improved from 2.32533 to 2.24050, saving model to /Users/robot/Downloads\\text_ckpt.h5\n",
            "Epoch 7/80\n",
            "19/19 [==============================] - 2s 81ms/step - loss: 2.1970 - accuracy: 0.3594\n",
            "\n",
            "Epoch 00007: loss improved from 2.24050 to 2.17919, saving model to /Users/robot/Downloads\\text_ckpt.h5\n",
            "Epoch 8/80\n",
            "19/19 [==============================] - 2s 75ms/step - loss: 2.1131 - accuracy: 0.3871\n",
            "\n",
            "Epoch 00008: loss improved from 2.17919 to 2.10269, saving model to /Users/robot/Downloads\\text_ckpt.h5\n",
            "Epoch 9/80\n",
            "19/19 [==============================] - 2s 77ms/step - loss: 2.0408 - accuracy: 0.4051\n",
            "\n",
            "Epoch 00009: loss improved from 2.10269 to 2.03147, saving model to /Users/robot/Downloads\\text_ckpt.h5\n",
            "Epoch 10/80\n",
            "19/19 [==============================] - 1s 68ms/step - loss: 1.9648 - accuracy: 0.4212\n",
            "\n",
            "Epoch 00010: loss improved from 2.03147 to 1.95296, saving model to /Users/robot/Downloads\\text_ckpt.h5\n",
            "Epoch 11/80\n",
            "19/19 [==============================] - 2s 69ms/step - loss: 1.8742 - accuracy: 0.4475\n",
            "\n",
            "Epoch 00011: loss improved from 1.95296 to 1.87270, saving model to /Users/robot/Downloads\\text_ckpt.h5\n",
            "Epoch 12/80\n",
            "19/19 [==============================] - 2s 74ms/step - loss: 1.8017 - accuracy: 0.4656\n",
            "\n",
            "Epoch 00012: loss improved from 1.87270 to 1.79328, saving model to /Users/robot/Downloads\\text_ckpt.h5\n",
            "Epoch 13/80\n",
            "19/19 [==============================] - 2s 74ms/step - loss: 1.7253 - accuracy: 0.4887\n",
            "\n",
            "Epoch 00013: loss improved from 1.79328 to 1.70864, saving model to /Users/robot/Downloads\\text_ckpt.h5\n",
            "Epoch 14/80\n",
            "19/19 [==============================] - 1s 72ms/step - loss: 1.6344 - accuracy: 0.5134\n",
            "\n",
            "Epoch 00014: loss improved from 1.70864 to 1.62458, saving model to /Users/robot/Downloads\\text_ckpt.h5\n",
            "Epoch 15/80\n",
            "19/19 [==============================] - 2s 73ms/step - loss: 1.5546 - accuracy: 0.5382\n",
            "\n",
            "Epoch 00015: loss improved from 1.62458 to 1.53968, saving model to /Users/robot/Downloads\\text_ckpt.h5\n",
            "Epoch 16/80\n",
            "19/19 [==============================] - 2s 74ms/step - loss: 1.4725 - accuracy: 0.5620\n",
            "\n",
            "Epoch 00016: loss improved from 1.53968 to 1.44606, saving model to /Users/robot/Downloads\\text_ckpt.h5\n",
            "Epoch 17/80\n",
            "19/19 [==============================] - 2s 75ms/step - loss: 1.3610 - accuracy: 0.5973\n",
            "\n",
            "Epoch 00017: loss improved from 1.44606 to 1.35009, saving model to /Users/robot/Downloads\\text_ckpt.h5\n",
            "Epoch 18/80\n",
            "19/19 [==============================] - 2s 75ms/step - loss: 1.2449 - accuracy: 0.6345\n",
            "\n",
            "Epoch 00018: loss improved from 1.35009 to 1.24948, saving model to /Users/robot/Downloads\\text_ckpt.h5\n",
            "Epoch 19/80\n",
            "19/19 [==============================] - 2s 73ms/step - loss: 1.1823 - accuracy: 0.6504\n",
            "\n",
            "Epoch 00019: loss improved from 1.24948 to 1.15482, saving model to /Users/robot/Downloads\\text_ckpt.h5\n",
            "Epoch 20/80\n",
            "19/19 [==============================] - 2s 75ms/step - loss: 1.0463 - accuracy: 0.6938\n",
            "\n",
            "Epoch 00020: loss improved from 1.15482 to 1.05187, saving model to /Users/robot/Downloads\\text_ckpt.h5\n",
            "Epoch 21/80\n",
            "19/19 [==============================] - 2s 80ms/step - loss: 0.9530 - accuracy: 0.7250\n",
            "\n",
            "Epoch 00021: loss improved from 1.05187 to 0.95954, saving model to /Users/robot/Downloads\\text_ckpt.h5\n",
            "Epoch 22/80\n",
            "19/19 [==============================] - 2s 75ms/step - loss: 0.8585 - accuracy: 0.7548\n",
            "\n",
            "Epoch 00022: loss improved from 0.95954 to 0.86535, saving model to /Users/robot/Downloads\\text_ckpt.h5\n",
            "Epoch 23/80\n",
            "19/19 [==============================] - 2s 75ms/step - loss: 0.7676 - accuracy: 0.7855\n",
            "\n",
            "Epoch 00023: loss improved from 0.86535 to 0.76614, saving model to /Users/robot/Downloads\\text_ckpt.h5\n",
            "Epoch 24/80\n",
            "19/19 [==============================] - 2s 73ms/step - loss: 0.6732 - accuracy: 0.8153\n",
            "\n",
            "Epoch 00024: loss improved from 0.76614 to 0.67907, saving model to /Users/robot/Downloads\\text_ckpt.h5\n",
            "Epoch 25/80\n",
            "19/19 [==============================] - 2s 69ms/step - loss: 0.5786 - accuracy: 0.8457\n",
            "\n",
            "Epoch 00025: loss improved from 0.67907 to 0.58987, saving model to /Users/robot/Downloads\\text_ckpt.h5\n",
            "Epoch 26/80\n",
            "19/19 [==============================] - 1s 64ms/step - loss: 0.5101 - accuracy: 0.8654\n",
            "\n",
            "Epoch 00026: loss improved from 0.58987 to 0.51254, saving model to /Users/robot/Downloads\\text_ckpt.h5\n",
            "Epoch 27/80\n",
            "19/19 [==============================] - 1s 65ms/step - loss: 0.4414 - accuracy: 0.8876\n",
            "\n",
            "Epoch 00027: loss improved from 0.51254 to 0.43650, saving model to /Users/robot/Downloads\\text_ckpt.h5\n",
            "Epoch 28/80\n",
            "19/19 [==============================] - 1s 66ms/step - loss: 0.3590 - accuracy: 0.9126\n",
            "\n",
            "Epoch 00028: loss improved from 0.43650 to 0.36217, saving model to /Users/robot/Downloads\\text_ckpt.h5\n",
            "Epoch 29/80\n",
            "19/19 [==============================] - 1s 67ms/step - loss: 0.3080 - accuracy: 0.9301\n",
            "\n",
            "Epoch 00029: loss improved from 0.36217 to 0.30465, saving model to /Users/robot/Downloads\\text_ckpt.h5\n",
            "Epoch 30/80\n",
            "19/19 [==============================] - 1s 66ms/step - loss: 0.2547 - accuracy: 0.9446\n",
            "\n",
            "Epoch 00030: loss improved from 0.30465 to 0.25943, saving model to /Users/robot/Downloads\\text_ckpt.h5\n",
            "Epoch 31/80\n",
            "19/19 [==============================] - 2s 80ms/step - loss: 0.2176 - accuracy: 0.9564\n",
            "\n",
            "Epoch 00031: loss improved from 0.25943 to 0.22033, saving model to /Users/robot/Downloads\\text_ckpt.h5\n",
            "Epoch 32/80\n",
            "19/19 [==============================] - 2s 70ms/step - loss: 0.1825 - accuracy: 0.9648\n",
            "\n",
            "Epoch 00032: loss improved from 0.22033 to 0.18546, saving model to /Users/robot/Downloads\\text_ckpt.h5\n",
            "Epoch 33/80\n",
            "19/19 [==============================] - 2s 76ms/step - loss: 0.1620 - accuracy: 0.9693\n",
            "\n",
            "Epoch 00033: loss improved from 0.18546 to 0.16021, saving model to /Users/robot/Downloads\\text_ckpt.h5\n",
            "Epoch 34/80\n",
            "19/19 [==============================] - 2s 73ms/step - loss: 0.1406 - accuracy: 0.9721\n",
            "\n",
            "Epoch 00034: loss improved from 0.16021 to 0.14234, saving model to /Users/robot/Downloads\\text_ckpt.h5\n",
            "Epoch 35/80\n",
            "19/19 [==============================] - 2s 71ms/step - loss: 0.1267 - accuracy: 0.9744\n",
            "\n",
            "Epoch 00035: loss improved from 0.14234 to 0.12811, saving model to /Users/robot/Downloads\\text_ckpt.h5\n",
            "Epoch 36/80\n",
            "19/19 [==============================] - 2s 71ms/step - loss: 0.1134 - accuracy: 0.9765\n",
            "\n",
            "Epoch 00036: loss improved from 0.12811 to 0.11569, saving model to /Users/robot/Downloads\\text_ckpt.h5\n",
            "Epoch 37/80\n",
            "19/19 [==============================] - 2s 70ms/step - loss: 0.1043 - accuracy: 0.9775\n",
            "\n",
            "Epoch 00037: loss improved from 0.11569 to 0.10573, saving model to /Users/robot/Downloads\\text_ckpt.h5\n",
            "Epoch 38/80\n",
            "19/19 [==============================] - 2s 72ms/step - loss: 0.0965 - accuracy: 0.9788\n",
            "\n",
            "Epoch 00038: loss improved from 0.10573 to 0.09925, saving model to /Users/robot/Downloads\\text_ckpt.h5\n",
            "Epoch 39/80\n",
            "19/19 [==============================] - 2s 76ms/step - loss: 0.0920 - accuracy: 0.9795\n",
            "\n",
            "Epoch 00039: loss improved from 0.09925 to 0.09289, saving model to /Users/robot/Downloads\\text_ckpt.h5\n",
            "Epoch 40/80\n",
            "19/19 [==============================] - 1s 69ms/step - loss: 0.0884 - accuracy: 0.9792\n",
            "\n",
            "Epoch 00040: loss improved from 0.09289 to 0.09041, saving model to /Users/robot/Downloads\\text_ckpt.h5\n",
            "Epoch 41/80\n",
            "19/19 [==============================] - 2s 71ms/step - loss: 0.0834 - accuracy: 0.9798\n",
            "\n",
            "Epoch 00041: loss improved from 0.09041 to 0.08532, saving model to /Users/robot/Downloads\\text_ckpt.h5\n",
            "Epoch 42/80\n",
            "19/19 [==============================] - 2s 71ms/step - loss: 0.0799 - accuracy: 0.9799\n",
            "\n",
            "Epoch 00042: loss improved from 0.08532 to 0.08239, saving model to /Users/robot/Downloads\\text_ckpt.h5\n",
            "Epoch 43/80\n",
            "19/19 [==============================] - 1s 71ms/step - loss: 0.0780 - accuracy: 0.9797\n",
            "\n",
            "Epoch 00043: loss improved from 0.08239 to 0.07987, saving model to /Users/robot/Downloads\\text_ckpt.h5\n",
            "Epoch 44/80\n",
            "19/19 [==============================] - 2s 72ms/step - loss: 0.0743 - accuracy: 0.9799\n",
            "\n",
            "Epoch 00044: loss improved from 0.07987 to 0.07703, saving model to /Users/robot/Downloads\\text_ckpt.h5\n",
            "Epoch 45/80\n",
            "19/19 [==============================] - 2s 71ms/step - loss: 0.0736 - accuracy: 0.9812\n",
            "\n",
            "Epoch 00045: loss improved from 0.07703 to 0.07311, saving model to /Users/robot/Downloads\\text_ckpt.h5\n",
            "Epoch 46/80\n",
            "19/19 [==============================] - 2s 71ms/step - loss: 0.0691 - accuracy: 0.9812\n",
            "\n",
            "Epoch 00046: loss improved from 0.07311 to 0.07094, saving model to /Users/robot/Downloads\\text_ckpt.h5\n",
            "Epoch 47/80\n",
            "19/19 [==============================] - 2s 72ms/step - loss: 0.0665 - accuracy: 0.9818\n",
            "\n",
            "Epoch 00047: loss improved from 0.07094 to 0.06815, saving model to /Users/robot/Downloads\\text_ckpt.h5\n",
            "Epoch 48/80\n",
            "19/19 [==============================] - 1s 70ms/step - loss: 0.0644 - accuracy: 0.9822\n",
            "\n",
            "Epoch 00048: loss improved from 0.06815 to 0.06643, saving model to /Users/robot/Downloads\\text_ckpt.h5\n",
            "Epoch 49/80\n",
            "19/19 [==============================] - 1s 64ms/step - loss: 0.0641 - accuracy: 0.9819\n",
            "\n",
            "Epoch 00049: loss did not improve from 0.06643\n",
            "Epoch 50/80\n",
            "19/19 [==============================] - 1s 65ms/step - loss: 0.0633 - accuracy: 0.9814\n",
            "\n",
            "Epoch 00050: loss improved from 0.06643 to 0.06597, saving model to /Users/robot/Downloads\\text_ckpt.h5\n",
            "Epoch 51/80\n",
            "19/19 [==============================] - 1s 66ms/step - loss: 0.0624 - accuracy: 0.9817\n",
            "\n",
            "Epoch 00051: loss improved from 0.06597 to 0.06429, saving model to /Users/robot/Downloads\\text_ckpt.h5\n",
            "Epoch 52/80\n",
            "19/19 [==============================] - 1s 65ms/step - loss: 0.0590 - accuracy: 0.9827\n",
            "\n",
            "Epoch 00052: loss improved from 0.06429 to 0.06222, saving model to /Users/robot/Downloads\\text_ckpt.h5\n",
            "Epoch 53/80\n",
            "19/19 [==============================] - 1s 66ms/step - loss: 0.0597 - accuracy: 0.9819\n",
            "\n",
            "Epoch 00053: loss did not improve from 0.06222\n",
            "Epoch 54/80\n",
            "19/19 [==============================] - 1s 66ms/step - loss: 0.0589 - accuracy: 0.9827\n",
            "\n",
            "Epoch 00054: loss improved from 0.06222 to 0.06117, saving model to /Users/robot/Downloads\\text_ckpt.h5\n",
            "Epoch 55/80\n",
            "19/19 [==============================] - 1s 69ms/step - loss: 0.0563 - accuracy: 0.9830\n",
            "\n",
            "Epoch 00055: loss improved from 0.06117 to 0.05871, saving model to /Users/robot/Downloads\\text_ckpt.h5\n",
            "Epoch 56/80\n",
            "19/19 [==============================] - 2s 72ms/step - loss: 0.0558 - accuracy: 0.9832\n",
            "\n",
            "Epoch 00056: loss improved from 0.05871 to 0.05712, saving model to /Users/robot/Downloads\\text_ckpt.h5\n",
            "Epoch 57/80\n",
            "19/19 [==============================] - 2s 72ms/step - loss: 0.0540 - accuracy: 0.9826\n",
            "\n",
            "Epoch 00057: loss did not improve from 0.05712\n",
            "Epoch 58/80\n",
            "19/19 [==============================] - 2s 85ms/step - loss: 0.0543 - accuracy: 0.9829\n",
            "\n",
            "Epoch 00058: loss improved from 0.05712 to 0.05697, saving model to /Users/robot/Downloads\\text_ckpt.h5\n",
            "Epoch 59/80\n",
            "19/19 [==============================] - 2s 75ms/step - loss: 0.0549 - accuracy: 0.9827\n",
            "\n",
            "Epoch 00059: loss improved from 0.05697 to 0.05648, saving model to /Users/robot/Downloads\\text_ckpt.h5\n",
            "Epoch 60/80\n",
            "19/19 [==============================] - 1s 70ms/step - loss: 0.0542 - accuracy: 0.9833\n",
            "\n",
            "Epoch 00060: loss improved from 0.05648 to 0.05556, saving model to /Users/robot/Downloads\\text_ckpt.h5\n",
            "Epoch 61/80\n",
            "19/19 [==============================] - 2s 70ms/step - loss: 0.0524 - accuracy: 0.9833\n",
            "\n",
            "Epoch 00061: loss improved from 0.05556 to 0.05500, saving model to /Users/robot/Downloads\\text_ckpt.h5\n",
            "Epoch 62/80\n",
            "19/19 [==============================] - 2s 70ms/step - loss: 0.0529 - accuracy: 0.9829\n",
            "\n",
            "Epoch 00062: loss did not improve from 0.05500\n",
            "Epoch 63/80\n",
            "19/19 [==============================] - 1s 71ms/step - loss: 0.0533 - accuracy: 0.9831\n",
            "\n",
            "Epoch 00063: loss did not improve from 0.05500\n",
            "Epoch 64/80\n",
            "19/19 [==============================] - 2s 70ms/step - loss: 0.0532 - accuracy: 0.9829\n",
            "\n",
            "Epoch 00064: loss did not improve from 0.05500\n",
            "Epoch 65/80\n",
            "19/19 [==============================] - 2s 69ms/step - loss: 0.0546 - accuracy: 0.9830\n",
            "\n",
            "Epoch 00065: loss did not improve from 0.05500\n",
            "Epoch 66/80\n",
            "19/19 [==============================] - 1s 70ms/step - loss: 0.0525 - accuracy: 0.9830\n",
            "\n",
            "Epoch 00066: loss improved from 0.05500 to 0.05373, saving model to /Users/robot/Downloads\\text_ckpt.h5\n",
            "Epoch 67/80\n",
            "19/19 [==============================] - 1s 68ms/step - loss: 0.0513 - accuracy: 0.9834\n",
            "\n",
            "Epoch 00067: loss improved from 0.05373 to 0.05370, saving model to /Users/robot/Downloads\\text_ckpt.h5\n",
            "Epoch 68/80\n",
            "19/19 [==============================] - 1s 68ms/step - loss: 0.0516 - accuracy: 0.9828\n",
            "\n",
            "Epoch 00068: loss improved from 0.05370 to 0.05369, saving model to /Users/robot/Downloads\\text_ckpt.h5\n",
            "Epoch 69/80\n",
            "19/19 [==============================] - 1s 66ms/step - loss: 0.0505 - accuracy: 0.9834\n",
            "\n",
            "Epoch 00069: loss improved from 0.05369 to 0.05287, saving model to /Users/robot/Downloads\\text_ckpt.h5\n",
            "Epoch 70/80\n",
            "19/19 [==============================] - 1s 66ms/step - loss: 0.0501 - accuracy: 0.9831\n",
            "\n",
            "Epoch 00070: loss improved from 0.05287 to 0.05238, saving model to /Users/robot/Downloads\\text_ckpt.h5\n",
            "Epoch 71/80\n",
            "19/19 [==============================] - 1s 66ms/step - loss: 0.0500 - accuracy: 0.9836\n",
            "\n",
            "Epoch 00071: loss improved from 0.05238 to 0.05164, saving model to /Users/robot/Downloads\\text_ckpt.h5\n",
            "Epoch 72/80\n",
            "19/19 [==============================] - 1s 67ms/step - loss: 0.0493 - accuracy: 0.9839\n",
            "\n",
            "Epoch 00072: loss improved from 0.05164 to 0.05146, saving model to /Users/robot/Downloads\\text_ckpt.h5\n",
            "Epoch 73/80\n",
            "19/19 [==============================] - 2s 69ms/step - loss: 0.0492 - accuracy: 0.9838\n",
            "\n",
            "Epoch 00073: loss did not improve from 0.05146\n",
            "Epoch 74/80\n",
            "19/19 [==============================] - 1s 71ms/step - loss: 0.0504 - accuracy: 0.9834\n",
            "\n",
            "Epoch 00074: loss did not improve from 0.05146\n",
            "Epoch 75/80\n",
            "19/19 [==============================] - 2s 70ms/step - loss: 0.0515 - accuracy: 0.9832\n",
            "\n",
            "Epoch 00075: loss did not improve from 0.05146\n",
            "Epoch 76/80\n",
            "19/19 [==============================] - 2s 70ms/step - loss: 0.0516 - accuracy: 0.9830\n",
            "\n",
            "Epoch 00076: loss did not improve from 0.05146\n",
            "Epoch 77/80\n",
            "19/19 [==============================] - 2s 71ms/step - loss: 0.0507 - accuracy: 0.9830\n",
            "\n",
            "Epoch 00077: loss did not improve from 0.05146\n",
            "Epoch 78/80\n",
            "19/19 [==============================] - 2s 70ms/step - loss: 0.0488 - accuracy: 0.9834\n",
            "\n",
            "Epoch 00078: loss improved from 0.05146 to 0.05133, saving model to /Users/robot/Downloads\\text_ckpt.h5\n",
            "Epoch 79/80\n",
            "19/19 [==============================] - 2s 70ms/step - loss: 0.0473 - accuracy: 0.9834\n",
            "\n",
            "Epoch 00079: loss improved from 0.05133 to 0.04996, saving model to /Users/robot/Downloads\\text_ckpt.h5\n",
            "Epoch 80/80\n",
            "19/19 [==============================] - 2s 72ms/step - loss: 0.0485 - accuracy: 0.9831\n",
            "\n",
            "Epoch 00080: loss improved from 0.04996 to 0.04966, saving model to /Users/robot/Downloads\\text_ckpt.h5\n"
          ],
          "name": "stdout"
        }
      ]
    },
    {
      "cell_type": "markdown",
      "metadata": {
        "id": "rU_G-cHscxwY"
      },
      "source": [
        "## Use model to generate text, and a function that is explained in the ppts\n"
      ]
    },
    {
      "cell_type": "code",
      "metadata": {
        "id": "Q9y4ccWS-ja3"
      },
      "source": [
        "class OneStep(tf.keras.Model):\n",
        "  def __init__(self, model, chars_from_ids, ids_from_chars, temperature=.5):\n",
        "    super().__init__()\n",
        "    self.temperature = temperature\n",
        "    self.model = model\n",
        "    self.chars_from_ids = chars_from_ids\n",
        "    self.ids_from_chars = ids_from_chars\n",
        "\n",
        "    # Create a mask to prevent \"\" or \"[UNK]\" from being generated.\n",
        "    skip_ids = self.ids_from_chars(['', '[UNK]'])[:, None]\n",
        "    sparse_mask = tf.SparseTensor(\n",
        "        # Put a -inf at each bad index.\n",
        "        values=[-float('inf')]*len(skip_ids),\n",
        "        indices=skip_ids,\n",
        "        # Match the shape to the vocabulary\n",
        "        dense_shape=[len(ids_from_chars.get_vocabulary())])\n",
        "    self.prediction_mask = tf.sparse.to_dense(sparse_mask)\n",
        "\n",
        "  @tf.function\n",
        "  def generate_one_step(self, inputs, states=None):\n",
        "    # Convert strings to token IDs.\n",
        "    input_chars = tf.strings.unicode_split(inputs, 'UTF-8')\n",
        "    input_ids = self.ids_from_chars(input_chars).to_tensor()\n",
        "\n",
        "    # Run the model.\n",
        "    # predicted_logits.shape is [batch, char, next_char_logits]\n",
        "    predicted_logits, states = self.model(inputs=input_ids, states=states,\n",
        "                                          return_state=True)\n",
        "    # Only use the last prediction.\n",
        "    predicted_logits = predicted_logits[:, -1, :]\n",
        "    predicted_logits = predicted_logits/self.temperature\n",
        "    # Apply the prediction mask: prevent \"\" or \"[UNK]\" from being generated.\n",
        "    predicted_logits = predicted_logits + self.prediction_mask\n",
        "\n",
        "    # Sample the output logits to generate token IDs.\n",
        "    predicted_ids = tf.random.categorical(predicted_logits, num_samples=1)\n",
        "    predicted_ids = tf.squeeze(predicted_ids, axis=-1)\n",
        "\n",
        "    # Convert from token ids to characters\n",
        "    predicted_chars = self.chars_from_ids(predicted_ids)\n",
        "\n",
        "    # Return the characters and model state.\n",
        "    return predicted_chars, states"
      ],
      "execution_count": null,
      "outputs": []
    },
    {
      "cell_type": "code",
      "metadata": {
        "id": "H5KBWX2g-kB5"
      },
      "source": [
        "one_step_model = OneStep(model, chars_from_ids, ids_from_chars)\n",
        "\n",
        "def makeLyrics(aux, num):\n",
        "  start = time.time()\n",
        "  states = None\n",
        "  next_char = tf.constant(aux)\n",
        "  result = [next_char]\n",
        "\n",
        "  for n in range(num):\n",
        "    next_char, states = one_step_model.generate_one_step(next_char, states=states)\n",
        "    result.append(next_char)\n",
        "\n",
        "  result = tf.strings.join(result)\n",
        "  end = time.time()\n",
        "  for i in range(len(next_char)):\n",
        "    print(result[i].numpy().decode('utf-8'), '\\n')\n",
        "\n",
        "  print('_'*80+'\\nRun time:', end - start)"
      ],
      "execution_count": null,
      "outputs": []
    },
    {
      "cell_type": "markdown",
      "metadata": {
        "id": "LKn1qeynAYjj"
      },
      "source": [
        "# Music Generation"
      ]
    },
    {
      "cell_type": "markdown",
      "metadata": {
        "id": "jqitsM5lFmqP"
      },
      "source": [
        "## Auxiliary functions"
      ]
    },
    {
      "cell_type": "code",
      "metadata": {
        "id": "SPk12I8ZFlc2"
      },
      "source": [
        "#defining function to read MIDI files\n",
        "def read_midi(file):\n",
        "    \n",
        "    print(\"Loading Music File:\",file)\n",
        "    \n",
        "    notes=[]\n",
        "    notes_to_parse = None\n",
        "    \n",
        "    #parsing a midi file\n",
        "    midi = converter.parse(file)\n",
        "  \n",
        "    #grouping based on different instruments\n",
        "    insts = instrument.partitionByInstrument(midi)\n",
        "\n",
        "    if insts:\n",
        "      notes_to_parse=insts.parts[0].recurse()\n",
        "    else:\n",
        "      notes_to_parse=midi.flat.notes\n",
        "\n",
        "    for element in notes_to_parse:\n",
        "        if isinstance(element, note.Note):\n",
        "            notes.append(str(element.pitch))\n",
        "        elif isinstance(element, chord.Chord):\n",
        "            notes.append('.'.join(str(n) for n in element.normalOrder))\n",
        "\n",
        "    return np.array(notes)"
      ],
      "execution_count": null,
      "outputs": []
    },
    {
      "cell_type": "code",
      "metadata": {
        "id": "umZ1lpY3Gih_"
      },
      "source": [
        "def convert_to_midi(prediction_output,filepath):\n",
        "   \n",
        "    offset = 0\n",
        "    output_notes = []\n",
        "\n",
        "    # create note and chord objects based on the values generated by the model\n",
        "    for pattern in prediction_output:\n",
        "        \n",
        "        # pattern is a chord\n",
        "        if ('.' in pattern) or pattern.isdigit():\n",
        "            notes_in_chord = pattern.split('.')\n",
        "            notes = []\n",
        "            for current_note in notes_in_chord:\n",
        "                \n",
        "                cn=int(current_note)\n",
        "                new_note = note.Note(cn)\n",
        "                new_note.storedInstrument = instrument.AcousticGuitar()\n",
        "                notes.append(new_note)\n",
        "                \n",
        "            new_chord = chord.Chord(notes)\n",
        "            new_chord.offset = offset\n",
        "            output_notes.append(new_chord)\n",
        "            \n",
        "        # pattern is a note\n",
        "        else:\n",
        "            \n",
        "            new_note = note.Note(pattern)\n",
        "            new_note.offset = offset\n",
        "            new_note.storedInstrument = instrument.Piano()\n",
        "            output_notes.append(new_note)\n",
        "\n",
        "        # increase offset each iteration so that notes do not stack\n",
        "        offset += 0.4\n",
        "    midi_stream = stream.Stream(output_notes)\n",
        "    midi_stream.write('midi', fp=filepath)"
      ],
      "execution_count": null,
      "outputs": []
    },
    {
      "cell_type": "markdown",
      "metadata": {
        "id": "4obh-g_CGvpb"
      },
      "source": [
        "## Import training data\n",
        "\n",
        "Las primeras dos celdas de este apartado corresponden a la carga de los archivos de audio, proceso que puede tomar varios minutos. Para ahorrar tiempo se comentaron estas secciones y se reemplaza por una carga de las notas ya procesadas en un archivo .npy"
      ]
    },
    {
      "cell_type": "code",
      "metadata": {
        "id": "gaTQgRBeGv1_",
        "colab": {
          "base_uri": "https://localhost:8080/"
        },
        "outputId": "e647b4a3-592a-4777-b53d-98bb61d639b4"
      },
      "source": [
        "#specify the path\n",
        "#path='/Users/robot/Downloads/music-20210430T003347Z-001/music/'\n",
        "\n",
        "#read all the filenames\n",
        "#files=[i for i in os.listdir(path) if (i.endswith(\".mid\") | i.endswith(\".midi\"))]\n",
        "\n",
        "#reading each midi file\n",
        "#notes_array = np.array([read_midi(path+i) for i in files])"
      ],
      "execution_count": null,
      "outputs": [
        {
          "output_type": "stream",
          "text": [
            "Loading Music File: /Users/robot/Downloads/music-20210430T003347Z-001/music/Chiquitita.mid\n",
            "Loading Music File: /Users/robot/Downloads/music-20210430T003347Z-001/music/Dame dame dame.mid\n",
            "Loading Music File: /Users/robot/Downloads/music-20210430T003347Z-001/music/Dancing Queen.mid\n",
            "Loading Music File: /Users/robot/Downloads/music-20210430T003347Z-001/music/Fernando.mid\n",
            "Loading Music File: /Users/robot/Downloads/music-20210430T003347Z-001/music/Gimme! Gimme! Gimme!.mid\n",
            "Loading Music File: /Users/robot/Downloads/music-20210430T003347Z-001/music/Mamma Mia.mid\n",
            "Loading Music File: /Users/robot/Downloads/music-20210430T003347Z-001/music/Money Money Money.mid\n",
            "Loading Music File: /Users/robot/Downloads/music-20210430T003347Z-001/music/SOS.mid\n",
            "Loading Music File: /Users/robot/Downloads/music-20210430T003347Z-001/music/SuperTrouper.mid\n",
            "Loading Music File: /Users/robot/Downloads/music-20210430T003347Z-001/music/Take A Chance On Me.mid\n",
            "Loading Music File: /Users/robot/Downloads/music-20210430T003347Z-001/music/The Way Old Friends Do.mid\n",
            "Loading Music File: /Users/robot/Downloads/music-20210430T003347Z-001/music/Voulez-Vous.mid\n",
            "Loading Music File: /Users/robot/Downloads/music-20210430T003347Z-001/music/Waterloo.mid\n",
            "Loading Music File: /Users/robot/Downloads/music-20210430T003347Z-001/music/Why Did It Have To Be Me.mid\n"
          ],
          "name": "stdout"
        },
        {
          "output_type": "stream",
          "text": [
            "C:\\Users\\robot\\Anaconda3\\lib\\site-packages\\ipykernel_launcher.py:8: VisibleDeprecationWarning: Creating an ndarray from ragged nested sequences (which is a list-or-tuple of lists-or-tuples-or ndarrays with different lengths or shapes) is deprecated. If you meant to do this, you must specify 'dtype=object' when creating the ndarray\n",
            "  \n"
          ],
          "name": "stderr"
        }
      ]
    },
    {
      "cell_type": "code",
      "metadata": {
        "colab": {
          "base_uri": "https://localhost:8080/"
        },
        "id": "FU53WiHx651L",
        "outputId": "4d71c791-9fea-46ee-da01-3631e2efd2a9"
      },
      "source": [
        "#print(notes_array)\n",
        "#print(notes_array.shape)\n",
        "\n",
        "# save numpy array as npy file\n",
        "#from numpy import asarray\n",
        "#from numpy import save\n",
        "# save to npy file\n",
        "#save('/Users/robot/Downloads/notes.npy', notes_array)"
      ],
      "execution_count": null,
      "outputs": [
        {
          "output_type": "stream",
          "text": [
            "[array(['A3', 'C#4', 'B3', ..., '1', 'A3', 'D5'], dtype='<U15')\n",
            " array(['6.7.10.11.0', 'A5', 'G4', ..., 'E-2', 'D3', 'E2'], dtype='<U23')\n",
            " array(['D7', 'B6', '4.5.9', ..., 'B5', 'B5', 'B5'], dtype='<U17')\n",
            " array(['A5', 'F#5', 'F#5', ..., '4.8', '4.8', 'E4'], dtype='<U17')\n",
            " array(['F#6', 'D6', 'F#6', ..., 'E-2', 'E-2', 'E-2'], dtype='<U14')\n",
            " array(['D6', 'D5', 'D3', ..., 'D3', 'A6', 'A6'], dtype='<U12')\n",
            " array(['4', 'E5', '4', ..., 'B2', 'B-2', 'B-2'], dtype='<U17')\n",
            " array(['5.9.0', '3.9', 'A6', ..., '9.1', 'D5', 'A6'], dtype='<U15')\n",
            " array(['G4', '0.4', 'C5', ..., 'C5', 'C2', 'C5'], dtype='<U15')\n",
            " array(['A3', 'G4', 'E5', ..., 'F2', 'E3', 'E3'], dtype='<U13')\n",
            " array(['F#5', 'C#7', 'G6', ..., 'G5', 'G5', 'A5'], dtype='<U19')\n",
            " array(['E-6', 'C7', 'C#4', ..., 'B4', 'B6', 'B5'], dtype='<U17')\n",
            " array(['7.9.1', 'A4', '7.9.10.0.2', ..., 'E5', 'E5', 'B5'], dtype='<U17')\n",
            " array(['11.1.6', 'G4', '2.3', ..., 'A5', 'F#1', 'B5'], dtype='<U19')]\n",
            "(14,)\n"
          ],
          "name": "stdout"
        }
      ]
    },
    {
      "cell_type": "markdown",
      "metadata": {
        "id": "0h6rqu1a7eV6"
      },
      "source": [
        "## Read previously imported data from npy file"
      ]
    },
    {
      "cell_type": "code",
      "metadata": {
        "colab": {
          "base_uri": "https://localhost:8080/"
        },
        "id": "CZaIGt9X7nHN",
        "outputId": "f8d585cf-5165-4740-a9dc-d45a14d67ffb"
      },
      "source": [
        "# load numpy array from npy file\n",
        "from numpy import load\n",
        "\n",
        "original_load=load\n",
        "load = lambda *a,**k: original_load(*a, allow_pickle=True, **k)\n",
        "\n",
        "# load array\n",
        "notes_array = load('/content/notes.npy')\n",
        "# print the array\n",
        "print(notes_array)\n",
        "\n",
        "load=original_load"
      ],
      "execution_count": null,
      "outputs": [
        {
          "output_type": "stream",
          "text": [
            "[array(['A3', 'C#4', 'B3', ..., '1', 'A3', 'D5'], dtype='<U15')\n",
            " array(['6.7.10.11.0', 'A5', 'G4', ..., 'E-2', 'D3', 'E2'], dtype='<U23')\n",
            " array(['D7', 'B6', '4.5.9', ..., 'B5', 'B5', 'B5'], dtype='<U17')\n",
            " array(['A5', 'F#5', 'F#5', ..., '4.8', '4.8', 'E4'], dtype='<U17')\n",
            " array(['F#6', 'D6', 'F#6', ..., 'E-2', 'E-2', 'E-2'], dtype='<U14')\n",
            " array(['D6', 'D5', 'D3', ..., 'D3', 'A6', 'A6'], dtype='<U12')\n",
            " array(['4', 'E5', '4', ..., 'B2', 'B-2', 'B-2'], dtype='<U17')\n",
            " array(['5.9.0', '3.9', 'A6', ..., '9.1', 'D5', 'A6'], dtype='<U15')\n",
            " array(['G4', '0.4', 'C5', ..., 'C5', 'C2', 'C5'], dtype='<U15')\n",
            " array(['A3', 'G4', 'E5', ..., 'F2', 'E3', 'E3'], dtype='<U13')\n",
            " array(['F#5', 'C#7', 'G6', ..., 'G5', 'G5', 'A5'], dtype='<U19')\n",
            " array(['E-6', 'C7', 'C#4', ..., 'B4', 'B6', 'B5'], dtype='<U17')\n",
            " array(['7.9.1', 'A4', '7.9.10.0.2', ..., 'E5', 'E5', 'B5'], dtype='<U17')\n",
            " array(['11.1.6', 'G4', '2.3', ..., 'A5', 'F#1', 'B5'], dtype='<U19')]\n"
          ],
          "name": "stdout"
        }
      ]
    },
    {
      "cell_type": "markdown",
      "metadata": {
        "id": "lXry76LJIg1x"
      },
      "source": [
        "## Data filtering and preparation"
      ]
    },
    {
      "cell_type": "code",
      "metadata": {
        "colab": {
          "base_uri": "https://localhost:8080/"
        },
        "id": "sMVVsBzT7tm3",
        "outputId": "16585d4e-be92-43c4-a0e5-f3829e0e4e00"
      },
      "source": [
        "#converting 2D array into 1D array\n",
        "notes_ = [element for note_ in notes_array for element in note_]\n",
        "\n",
        "#No. of unique notes\n",
        "unique_notes = list(set(notes_))\n",
        "print(len(unique_notes))"
      ],
      "execution_count": null,
      "outputs": [
        {
          "output_type": "stream",
          "text": [
            "2779\n"
          ],
          "name": "stdout"
        }
      ]
    },
    {
      "cell_type": "code",
      "metadata": {
        "colab": {
          "base_uri": "https://localhost:8080/"
        },
        "id": "Ezx646N8I0G6",
        "outputId": "69454dfd-2bd7-4703-900a-7e00ebad3b09"
      },
      "source": [
        "freq = dict(Counter(notes_))\n",
        "# Frequency parameter\n",
        "frr = 75\n",
        "frequent_notes = [note_ for note_, count in freq.items() if count>=frr]\n",
        "print(len(frequent_notes))\n",
        "\n",
        "# Save the frequent notes in a new array\n",
        "new_music=[]\n",
        "\n",
        "for notes in notes_array:\n",
        "    temp=[]\n",
        "    for note_ in notes:\n",
        "        if note_ in frequent_notes:\n",
        "            temp.append(note_)            \n",
        "    new_music.append(temp)\n",
        "    \n",
        "new_music = np.array(new_music)"
      ],
      "execution_count": null,
      "outputs": [
        {
          "output_type": "stream",
          "text": [
            "204\n"
          ],
          "name": "stdout"
        },
        {
          "output_type": "stream",
          "text": [
            "C:\\Users\\robot\\Anaconda3\\lib\\site-packages\\ipykernel_launcher.py:17: VisibleDeprecationWarning: Creating an ndarray from ragged nested sequences (which is a list-or-tuple of lists-or-tuples-or ndarrays with different lengths or shapes) is deprecated. If you meant to do this, you must specify 'dtype=object' when creating the ndarray\n"
          ],
          "name": "stderr"
        }
      ]
    },
    {
      "cell_type": "code",
      "metadata": {
        "id": "2pHdCFpDJHbI"
      },
      "source": [
        "tsteps = 32\n",
        "x = []\n",
        "y = []\n",
        "\n",
        "for note_ in new_music:\n",
        "    for i in range(0, len(note_) - tsteps, 1):\n",
        "        \n",
        "        #preparing input and output sequences\n",
        "        input_ = note_[i:i + tsteps]\n",
        "        output = note_[i + tsteps]\n",
        "        \n",
        "        x.append(input_)\n",
        "        y.append(output)\n",
        "        \n",
        "x = np.array(x)\n",
        "y = np.array(y)"
      ],
      "execution_count": null,
      "outputs": []
    },
    {
      "cell_type": "code",
      "metadata": {
        "colab": {
          "base_uri": "https://localhost:8080/"
        },
        "id": "3ZOPNC1QVbKK",
        "outputId": "d0d71d27-f3a9-4acf-af98-e261a30b6cd2"
      },
      "source": [
        "print(x.shape)\n",
        "print(y.shape)"
      ],
      "execution_count": null,
      "outputs": [
        {
          "output_type": "stream",
          "text": [
            "(95861, 32)\n",
            "(95861,)\n"
          ],
          "name": "stdout"
        }
      ]
    },
    {
      "cell_type": "code",
      "metadata": {
        "id": "QYzCwfqTJRP5"
      },
      "source": [
        "# Assign an integer to each note\n",
        "unique_x = list(set(x.ravel()))\n",
        "x_note_to_int = dict((note_, number) for number, note_ in enumerate(unique_x))\n",
        "\n",
        "#preparing input sequences\n",
        "x_seq=[]\n",
        "for i in x:\n",
        "    temp=[]\n",
        "    for j in i:\n",
        "        #assigning unique integer to every note\n",
        "        temp.append(x_note_to_int[j])\n",
        "    x_seq.append(temp)\n",
        "    \n",
        "x_seq = np.reshape(x_seq,(len(x),tsteps,1))\n",
        "\n",
        "unique_y = list(set(y))\n",
        "y_note_to_int = dict((note_, number) for number, note_ in enumerate(unique_y)) \n",
        "y_seq=np_utils.to_categorical([y_note_to_int[i] for i in y])"
      ],
      "execution_count": null,
      "outputs": []
    },
    {
      "cell_type": "code",
      "metadata": {
        "id": "8omNWO-IKSTL",
        "colab": {
          "base_uri": "https://localhost:8080/"
        },
        "outputId": "516b1329-b839-48c2-dd54-eba806021a11"
      },
      "source": [
        "#igual que en pcp\n",
        "x_tr, x_val, y_tr, y_val = train_test_split(x_seq,y_seq,test_size=0.2,random_state=0)\n",
        "print(x_tr.shape)\n",
        "print(y_tr.shape)"
      ],
      "execution_count": null,
      "outputs": [
        {
          "output_type": "stream",
          "text": [
            "(76688, 32, 1)\n",
            "(76688, 204)\n"
          ],
          "name": "stdout"
        }
      ]
    },
    {
      "cell_type": "markdown",
      "metadata": {
        "id": "cAEfg-NKLL-V"
      },
      "source": [
        "## Super Keras time"
      ]
    },
    {
      "cell_type": "code",
      "metadata": {
        "colab": {
          "base_uri": "https://localhost:8080/"
        },
        "id": "AN1xuxo8KZ3K",
        "outputId": "b02d1241-0c62-4098-b454-3253fe178844"
      },
      "source": [
        "musicModel = Sequential()\n",
        "musicModel.add(LSTM(\n",
        "  512,\n",
        "  input_shape=(x_tr.shape[1],x_tr.shape[2]),\n",
        "  return_sequences=True\n",
        "))\n",
        "musicModel.add(LSTM(256))\n",
        "musicModel.add(Dense(256))\n",
        "musicModel.add(Dense(len(unique_x)))\n",
        "musicModel.add(Activation('softmax'))\n",
        "\n",
        "#ada=tf.keras.optimizers.Adadelta(\n",
        "#    learning_rate=0.005, rho=0.95, epsilon=1e-10,name='Adadelta')\n",
        "musicModel.compile(loss='categorical_crossentropy', optimizer='rmsprop',metrics=['accuracy'])\n",
        "\n",
        "musicModel.summary()"
      ],
      "execution_count": null,
      "outputs": [
        {
          "output_type": "stream",
          "text": [
            "Model: \"sequential\"\n",
            "_________________________________________________________________\n",
            "Layer (type)                 Output Shape              Param #   \n",
            "=================================================================\n",
            "lstm (LSTM)                  (None, 32, 512)           1052672   \n",
            "_________________________________________________________________\n",
            "lstm_1 (LSTM)                (None, 256)               787456    \n",
            "_________________________________________________________________\n",
            "dense_2 (Dense)              (None, 256)               65792     \n",
            "_________________________________________________________________\n",
            "dense_3 (Dense)              (None, 204)               52428     \n",
            "_________________________________________________________________\n",
            "activation (Activation)      (None, 204)               0         \n",
            "=================================================================\n",
            "Total params: 1,958,348\n",
            "Trainable params: 1,958,348\n",
            "Non-trainable params: 0\n",
            "_________________________________________________________________\n"
          ],
          "name": "stdout"
        }
      ]
    },
    {
      "cell_type": "code",
      "metadata": {
        "id": "0C4527VmLn5v"
      },
      "source": [
        "mc=ModelCheckpoint('/content/best_model.h5', monitor='loss', mode='min', save_best_only=True,verbose=1) "
      ],
      "execution_count": null,
      "outputs": []
    },
    {
      "cell_type": "markdown",
      "metadata": {
        "id": "9glYftXDLt_2"
      },
      "source": [
        "## Model Training"
      ]
    },
    {
      "cell_type": "code",
      "metadata": {
        "colab": {
          "base_uri": "https://localhost:8080/"
        },
        "id": "2WGdan_zLzeZ",
        "outputId": "0f5da7a1-f5d8-4a0d-b8ce-d2ba21b1eb71"
      },
      "source": [
        "batch = 32\n",
        "epoch = 200\n",
        "history = musicModel.fit(x_tr,y_tr,batch_size=batch,epochs=epoch, callbacks=[mc])"
      ],
      "execution_count": null,
      "outputs": [
        {
          "output_type": "stream",
          "text": [
            "Epoch 1/200\n",
            "2397/2397 [==============================] - 53s 22ms/step - loss: 1.9431 - accuracy: 0.5485\n",
            "\n",
            "Epoch 00001: loss improved from 1.97904 to 1.94313, saving model to /Users/robot/Downloads\\best_model.h5\n",
            "Epoch 2/200\n",
            "2397/2397 [==============================] - 53s 22ms/step - loss: 1.9023 - accuracy: 0.5540\n",
            "\n",
            "Epoch 00002: loss improved from 1.94313 to 1.90226, saving model to /Users/robot/Downloads\\best_model.h5\n",
            "Epoch 3/200\n",
            "2397/2397 [==============================] - 54s 22ms/step - loss: 1.8683 - accuracy: 0.5602\n",
            "\n",
            "Epoch 00003: loss improved from 1.90226 to 1.86826, saving model to /Users/robot/Downloads\\best_model.h5\n",
            "Epoch 4/200\n",
            "2397/2397 [==============================] - 53s 22ms/step - loss: 1.8364 - accuracy: 0.5667\n",
            "\n",
            "Epoch 00004: loss improved from 1.86826 to 1.83642, saving model to /Users/robot/Downloads\\best_model.h5\n",
            "Epoch 5/200\n",
            "2397/2397 [==============================] - 54s 22ms/step - loss: 1.7987 - accuracy: 0.5753\n",
            "\n",
            "Epoch 00005: loss improved from 1.83642 to 1.79867, saving model to /Users/robot/Downloads\\best_model.h5\n",
            "Epoch 6/200\n",
            "2397/2397 [==============================] - 53s 22ms/step - loss: 1.7703 - accuracy: 0.5804\n",
            "\n",
            "Epoch 00006: loss improved from 1.79867 to 1.77026, saving model to /Users/robot/Downloads\\best_model.h5\n",
            "Epoch 7/200\n",
            "2397/2397 [==============================] - 54s 22ms/step - loss: 1.7414 - accuracy: 0.5865\n",
            "\n",
            "Epoch 00007: loss improved from 1.77026 to 1.74139, saving model to /Users/robot/Downloads\\best_model.h5\n",
            "Epoch 8/200\n",
            "2397/2397 [==============================] - 54s 23ms/step - loss: 1.7131 - accuracy: 0.5910\n",
            "\n",
            "Epoch 00008: loss improved from 1.74139 to 1.71314, saving model to /Users/robot/Downloads\\best_model.h5\n",
            "Epoch 9/200\n",
            "2397/2397 [==============================] - 60s 25ms/step - loss: 1.6855 - accuracy: 0.5941\n",
            "\n",
            "Epoch 00009: loss improved from 1.71314 to 1.68553, saving model to /Users/robot/Downloads\\best_model.h5\n",
            "Epoch 10/200\n",
            "2397/2397 [==============================] - 59s 25ms/step - loss: 1.6643 - accuracy: 0.5991\n",
            "\n",
            "Epoch 00010: loss improved from 1.68553 to 1.66431, saving model to /Users/robot/Downloads\\best_model.h5\n",
            "Epoch 11/200\n",
            "2397/2397 [==============================] - 56s 23ms/step - loss: 1.6297 - accuracy: 0.6058\n",
            "\n",
            "Epoch 00011: loss improved from 1.66431 to 1.62973, saving model to /Users/robot/Downloads\\best_model.h5\n",
            "Epoch 12/200\n",
            "2397/2397 [==============================] - 53s 22ms/step - loss: 1.6150 - accuracy: 0.6098\n",
            "\n",
            "Epoch 00012: loss improved from 1.62973 to 1.61495, saving model to /Users/robot/Downloads\\best_model.h5\n",
            "Epoch 13/200\n",
            "2397/2397 [==============================] - 53s 22ms/step - loss: 1.5865 - accuracy: 0.6157\n",
            "\n",
            "Epoch 00013: loss improved from 1.61495 to 1.58654, saving model to /Users/robot/Downloads\\best_model.h5\n",
            "Epoch 14/200\n",
            "2397/2397 [==============================] - 53s 22ms/step - loss: 1.5873 - accuracy: 0.6151\n",
            "\n",
            "Epoch 00014: loss did not improve from 1.58654\n",
            "Epoch 15/200\n",
            "2397/2397 [==============================] - 53s 22ms/step - loss: 1.5558 - accuracy: 0.6220\n",
            "\n",
            "Epoch 00015: loss improved from 1.58654 to 1.55583, saving model to /Users/robot/Downloads\\best_model.h5\n",
            "Epoch 16/200\n",
            "2397/2397 [==============================] - 53s 22ms/step - loss: 1.5371 - accuracy: 0.6266\n",
            "\n",
            "Epoch 00016: loss improved from 1.55583 to 1.53712, saving model to /Users/robot/Downloads\\best_model.h5\n",
            "Epoch 17/200\n",
            "2397/2397 [==============================] - 53s 22ms/step - loss: 1.5212 - accuracy: 0.6282\n",
            "\n",
            "Epoch 00017: loss improved from 1.53712 to 1.52122, saving model to /Users/robot/Downloads\\best_model.h5\n",
            "Epoch 18/200\n",
            "2397/2397 [==============================] - 53s 22ms/step - loss: 1.5034 - accuracy: 0.6321\n",
            "\n",
            "Epoch 00018: loss improved from 1.52122 to 1.50345, saving model to /Users/robot/Downloads\\best_model.h5\n",
            "Epoch 19/200\n",
            "2397/2397 [==============================] - 53s 22ms/step - loss: 1.4974 - accuracy: 0.6323\n",
            "\n",
            "Epoch 00019: loss improved from 1.50345 to 1.49735, saving model to /Users/robot/Downloads\\best_model.h5\n",
            "Epoch 20/200\n",
            "2397/2397 [==============================] - 53s 22ms/step - loss: 1.4846 - accuracy: 0.6341\n",
            "\n",
            "Epoch 00020: loss improved from 1.49735 to 1.48463, saving model to /Users/robot/Downloads\\best_model.h5\n",
            "Epoch 21/200\n",
            "2397/2397 [==============================] - 53s 22ms/step - loss: 1.4810 - accuracy: 0.6344\n",
            "\n",
            "Epoch 00021: loss improved from 1.48463 to 1.48101, saving model to /Users/robot/Downloads\\best_model.h5\n",
            "Epoch 22/200\n",
            "2397/2397 [==============================] - 53s 22ms/step - loss: 1.4504 - accuracy: 0.6412\n",
            "\n",
            "Epoch 00022: loss improved from 1.48101 to 1.45039, saving model to /Users/robot/Downloads\\best_model.h5\n",
            "Epoch 23/200\n",
            "2397/2397 [==============================] - 58s 24ms/step - loss: 1.4483 - accuracy: 0.6403\n",
            "\n",
            "Epoch 00023: loss improved from 1.45039 to 1.44831, saving model to /Users/robot/Downloads\\best_model.h5\n",
            "Epoch 24/200\n",
            "2397/2397 [==============================] - 57s 24ms/step - loss: 1.4442 - accuracy: 0.6421\n",
            "\n",
            "Epoch 00024: loss improved from 1.44831 to 1.44416, saving model to /Users/robot/Downloads\\best_model.h5\n",
            "Epoch 25/200\n",
            "2397/2397 [==============================] - 57s 24ms/step - loss: 1.4255 - accuracy: 0.6449\n",
            "\n",
            "Epoch 00025: loss improved from 1.44416 to 1.42548, saving model to /Users/robot/Downloads\\best_model.h5\n",
            "Epoch 26/200\n",
            "2397/2397 [==============================] - 57s 24ms/step - loss: 1.4085 - accuracy: 0.6494\n",
            "\n",
            "Epoch 00026: loss improved from 1.42548 to 1.40853, saving model to /Users/robot/Downloads\\best_model.h5\n",
            "Epoch 27/200\n",
            "2397/2397 [==============================] - 56s 24ms/step - loss: 1.4024 - accuracy: 0.6502\n",
            "\n",
            "Epoch 00027: loss improved from 1.40853 to 1.40238, saving model to /Users/robot/Downloads\\best_model.h5\n",
            "Epoch 28/200\n",
            "2397/2397 [==============================] - 57s 24ms/step - loss: 1.3933 - accuracy: 0.6505\n",
            "\n",
            "Epoch 00028: loss improved from 1.40238 to 1.39329, saving model to /Users/robot/Downloads\\best_model.h5\n",
            "Epoch 29/200\n",
            "2397/2397 [==============================] - 57s 24ms/step - loss: 1.3881 - accuracy: 0.6523\n",
            "\n",
            "Epoch 00029: loss improved from 1.39329 to 1.38809, saving model to /Users/robot/Downloads\\best_model.h5\n",
            "Epoch 30/200\n",
            "2397/2397 [==============================] - 57s 24ms/step - loss: 1.3917 - accuracy: 0.6501\n",
            "\n",
            "Epoch 00030: loss did not improve from 1.38809\n",
            "Epoch 31/200\n",
            "2397/2397 [==============================] - 56s 24ms/step - loss: 1.3700 - accuracy: 0.6556\n",
            "\n",
            "Epoch 00031: loss improved from 1.38809 to 1.36998, saving model to /Users/robot/Downloads\\best_model.h5\n",
            "Epoch 32/200\n",
            "2397/2397 [==============================] - 57s 24ms/step - loss: 1.3743 - accuracy: 0.6550\n",
            "\n",
            "Epoch 00032: loss did not improve from 1.36998\n",
            "Epoch 33/200\n",
            "2397/2397 [==============================] - 55s 23ms/step - loss: 1.3618 - accuracy: 0.6578\n",
            "\n",
            "Epoch 00033: loss improved from 1.36998 to 1.36176, saving model to /Users/robot/Downloads\\best_model.h5\n",
            "Epoch 34/200\n",
            "2397/2397 [==============================] - 52s 22ms/step - loss: 1.3580 - accuracy: 0.6567\n",
            "\n",
            "Epoch 00034: loss improved from 1.36176 to 1.35800, saving model to /Users/robot/Downloads\\best_model.h5\n",
            "Epoch 35/200\n",
            "2397/2397 [==============================] - 53s 22ms/step - loss: 1.3597 - accuracy: 0.6561\n",
            "\n",
            "Epoch 00035: loss did not improve from 1.35800\n",
            "Epoch 36/200\n",
            "2397/2397 [==============================] - 52s 22ms/step - loss: 1.3528 - accuracy: 0.6569\n",
            "\n",
            "Epoch 00036: loss improved from 1.35800 to 1.35283, saving model to /Users/robot/Downloads\\best_model.h5\n",
            "Epoch 37/200\n",
            "2397/2397 [==============================] - 53s 22ms/step - loss: 1.3473 - accuracy: 0.6579\n",
            "\n",
            "Epoch 00037: loss improved from 1.35283 to 1.34728, saving model to /Users/robot/Downloads\\best_model.h5\n",
            "Epoch 38/200\n",
            "2397/2397 [==============================] - 52s 22ms/step - loss: 1.3356 - accuracy: 0.6599\n",
            "\n",
            "Epoch 00038: loss improved from 1.34728 to 1.33564, saving model to /Users/robot/Downloads\\best_model.h5\n",
            "Epoch 39/200\n",
            "2397/2397 [==============================] - 52s 22ms/step - loss: 1.3364 - accuracy: 0.6588\n",
            "\n",
            "Epoch 00039: loss did not improve from 1.33564\n",
            "Epoch 40/200\n",
            "2397/2397 [==============================] - 52s 22ms/step - loss: 1.3282 - accuracy: 0.6619\n",
            "\n",
            "Epoch 00040: loss improved from 1.33564 to 1.32818, saving model to /Users/robot/Downloads\\best_model.h5\n",
            "Epoch 41/200\n",
            "2397/2397 [==============================] - 55s 23ms/step - loss: 1.3155 - accuracy: 0.6637\n",
            "\n",
            "Epoch 00041: loss improved from 1.32818 to 1.31545, saving model to /Users/robot/Downloads\\best_model.h5\n",
            "Epoch 42/200\n",
            "2397/2397 [==============================] - 57s 24ms/step - loss: 1.3153 - accuracy: 0.6634\n",
            "\n",
            "Epoch 00042: loss improved from 1.31545 to 1.31532, saving model to /Users/robot/Downloads\\best_model.h5\n",
            "Epoch 43/200\n",
            "2397/2397 [==============================] - 56s 24ms/step - loss: 1.3108 - accuracy: 0.6631\n",
            "\n",
            "Epoch 00043: loss improved from 1.31532 to 1.31077, saving model to /Users/robot/Downloads\\best_model.h5\n",
            "Epoch 44/200\n",
            "2397/2397 [==============================] - 56s 24ms/step - loss: 1.3078 - accuracy: 0.6639\n",
            "\n",
            "Epoch 00044: loss improved from 1.31077 to 1.30783, saving model to /Users/robot/Downloads\\best_model.h5\n",
            "Epoch 45/200\n",
            "2397/2397 [==============================] - 56s 23ms/step - loss: 1.2978 - accuracy: 0.6679\n",
            "\n",
            "Epoch 00045: loss improved from 1.30783 to 1.29781, saving model to /Users/robot/Downloads\\best_model.h5\n",
            "Epoch 46/200\n",
            "2397/2397 [==============================] - 57s 24ms/step - loss: 1.3001 - accuracy: 0.6663\n",
            "\n",
            "Epoch 00046: loss did not improve from 1.29781\n",
            "Epoch 47/200\n",
            "2397/2397 [==============================] - 57s 24ms/step - loss: 1.2943 - accuracy: 0.6673\n",
            "\n",
            "Epoch 00047: loss improved from 1.29781 to 1.29428, saving model to /Users/robot/Downloads\\best_model.h5\n",
            "Epoch 48/200\n",
            "2397/2397 [==============================] - 57s 24ms/step - loss: 1.2915 - accuracy: 0.6651\n",
            "\n",
            "Epoch 00048: loss improved from 1.29428 to 1.29149, saving model to /Users/robot/Downloads\\best_model.h5\n",
            "Epoch 49/200\n",
            "2397/2397 [==============================] - 57s 24ms/step - loss: 1.2842 - accuracy: 0.6683\n",
            "\n",
            "Epoch 00049: loss improved from 1.29149 to 1.28416, saving model to /Users/robot/Downloads\\best_model.h5\n",
            "Epoch 50/200\n",
            "2397/2397 [==============================] - 57s 24ms/step - loss: 1.2910 - accuracy: 0.6676\n",
            "\n",
            "Epoch 00050: loss did not improve from 1.28416\n",
            "Epoch 51/200\n",
            "2397/2397 [==============================] - 57s 24ms/step - loss: 1.2877 - accuracy: 0.6676\n",
            "\n",
            "Epoch 00051: loss did not improve from 1.28416\n",
            "Epoch 52/200\n",
            "2397/2397 [==============================] - 56s 23ms/step - loss: 1.2879 - accuracy: 0.6677\n",
            "\n",
            "Epoch 00052: loss did not improve from 1.28416\n",
            "Epoch 53/200\n",
            "2397/2397 [==============================] - 56s 23ms/step - loss: 1.2832 - accuracy: 0.6705\n",
            "\n",
            "Epoch 00053: loss improved from 1.28416 to 1.28324, saving model to /Users/robot/Downloads\\best_model.h5\n",
            "Epoch 54/200\n",
            "2397/2397 [==============================] - 56s 23ms/step - loss: 1.2862 - accuracy: 0.6656\n",
            "\n",
            "Epoch 00054: loss did not improve from 1.28324\n",
            "Epoch 55/200\n",
            "2397/2397 [==============================] - 56s 24ms/step - loss: 1.2788 - accuracy: 0.6690\n",
            "\n",
            "Epoch 00055: loss improved from 1.28324 to 1.27883, saving model to /Users/robot/Downloads\\best_model.h5\n",
            "Epoch 56/200\n",
            "2397/2397 [==============================] - 57s 24ms/step - loss: 1.2796 - accuracy: 0.6677\n",
            "\n",
            "Epoch 00056: loss did not improve from 1.27883\n",
            "Epoch 57/200\n",
            "2397/2397 [==============================] - 57s 24ms/step - loss: 1.2786 - accuracy: 0.6684\n",
            "\n",
            "Epoch 00057: loss improved from 1.27883 to 1.27864, saving model to /Users/robot/Downloads\\best_model.h5\n",
            "Epoch 58/200\n",
            "2397/2397 [==============================] - 57s 24ms/step - loss: 1.2661 - accuracy: 0.6714\n",
            "\n",
            "Epoch 00058: loss improved from 1.27864 to 1.26607, saving model to /Users/robot/Downloads\\best_model.h5\n",
            "Epoch 59/200\n",
            "2397/2397 [==============================] - 57s 24ms/step - loss: 1.2784 - accuracy: 0.6688\n",
            "\n",
            "Epoch 00059: loss did not improve from 1.26607\n",
            "Epoch 60/200\n",
            "2397/2397 [==============================] - 56s 24ms/step - loss: 1.2699 - accuracy: 0.6707\n",
            "\n",
            "Epoch 00060: loss did not improve from 1.26607\n",
            "Epoch 61/200\n",
            "2397/2397 [==============================] - 56s 24ms/step - loss: 1.2679 - accuracy: 0.6699\n",
            "\n",
            "Epoch 00061: loss did not improve from 1.26607\n",
            "Epoch 62/200\n",
            "2397/2397 [==============================] - 54s 23ms/step - loss: 1.2655 - accuracy: 0.6706\n",
            "\n",
            "Epoch 00062: loss improved from 1.26607 to 1.26553, saving model to /Users/robot/Downloads\\best_model.h5\n",
            "Epoch 63/200\n",
            "2397/2397 [==============================] - 48s 20ms/step - loss: 1.2635 - accuracy: 0.6713\n",
            "\n",
            "Epoch 00063: loss improved from 1.26553 to 1.26345, saving model to /Users/robot/Downloads\\best_model.h5\n",
            "Epoch 64/200\n",
            "2397/2397 [==============================] - 49s 20ms/step - loss: 1.2719 - accuracy: 0.6673\n",
            "\n",
            "Epoch 00064: loss did not improve from 1.26345\n",
            "Epoch 65/200\n",
            "2397/2397 [==============================] - 49s 20ms/step - loss: 1.2660 - accuracy: 0.6688\n",
            "\n",
            "Epoch 00065: loss did not improve from 1.26345\n",
            "Epoch 66/200\n",
            "2397/2397 [==============================] - 49s 20ms/step - loss: 1.2753 - accuracy: 0.6688\n",
            "\n",
            "Epoch 00066: loss did not improve from 1.26345\n",
            "Epoch 67/200\n",
            "2397/2397 [==============================] - 48s 20ms/step - loss: 1.2565 - accuracy: 0.6709\n",
            "\n",
            "Epoch 00067: loss improved from 1.26345 to 1.25649, saving model to /Users/robot/Downloads\\best_model.h5\n",
            "Epoch 68/200\n",
            "2397/2397 [==============================] - 48s 20ms/step - loss: 1.2686 - accuracy: 0.6684\n",
            "\n",
            "Epoch 00068: loss did not improve from 1.25649\n",
            "Epoch 69/200\n",
            "2397/2397 [==============================] - 48s 20ms/step - loss: 1.2584 - accuracy: 0.6718\n",
            "\n",
            "Epoch 00069: loss did not improve from 1.25649\n",
            "Epoch 70/200\n",
            "2397/2397 [==============================] - 48s 20ms/step - loss: 1.2606 - accuracy: 0.6679\n",
            "\n",
            "Epoch 00070: loss did not improve from 1.25649\n",
            "Epoch 71/200\n",
            "2397/2397 [==============================] - 48s 20ms/step - loss: 1.2695 - accuracy: 0.6665\n",
            "\n",
            "Epoch 00071: loss did not improve from 1.25649\n",
            "Epoch 72/200\n",
            "2397/2397 [==============================] - 48s 20ms/step - loss: 1.2564 - accuracy: 0.6710\n",
            "\n",
            "Epoch 00072: loss improved from 1.25649 to 1.25641, saving model to /Users/robot/Downloads\\best_model.h5\n",
            "Epoch 73/200\n",
            "2397/2397 [==============================] - 48s 20ms/step - loss: 1.2619 - accuracy: 0.6703\n",
            "\n",
            "Epoch 00073: loss did not improve from 1.25641\n",
            "Epoch 74/200\n",
            "2397/2397 [==============================] - 48s 20ms/step - loss: 1.2536 - accuracy: 0.6705\n",
            "\n",
            "Epoch 00074: loss improved from 1.25641 to 1.25364, saving model to /Users/robot/Downloads\\best_model.h5\n",
            "Epoch 75/200\n",
            "2397/2397 [==============================] - 49s 20ms/step - loss: 1.2633 - accuracy: 0.6675\n",
            "\n",
            "Epoch 00075: loss did not improve from 1.25364\n",
            "Epoch 76/200\n",
            "2397/2397 [==============================] - 48s 20ms/step - loss: 1.2553 - accuracy: 0.6705\n",
            "\n",
            "Epoch 00076: loss did not improve from 1.25364\n",
            "Epoch 77/200\n",
            "2397/2397 [==============================] - 48s 20ms/step - loss: 1.2646 - accuracy: 0.6671\n",
            "\n",
            "Epoch 00077: loss did not improve from 1.25364\n",
            "Epoch 78/200\n",
            "2397/2397 [==============================] - 48s 20ms/step - loss: 1.2607 - accuracy: 0.6694\n",
            "\n",
            "Epoch 00078: loss did not improve from 1.25364\n",
            "Epoch 79/200\n",
            "2397/2397 [==============================] - 48s 20ms/step - loss: 1.2454 - accuracy: 0.6724\n",
            "\n",
            "Epoch 00079: loss improved from 1.25364 to 1.24544, saving model to /Users/robot/Downloads\\best_model.h5\n",
            "Epoch 80/200\n",
            "2397/2397 [==============================] - 48s 20ms/step - loss: 1.2542 - accuracy: 0.6703\n",
            "\n",
            "Epoch 00080: loss did not improve from 1.24544\n",
            "Epoch 81/200\n",
            "2397/2397 [==============================] - 48s 20ms/step - loss: 1.2706 - accuracy: 0.6670\n",
            "\n",
            "Epoch 00081: loss did not improve from 1.24544\n",
            "Epoch 82/200\n",
            "2397/2397 [==============================] - 48s 20ms/step - loss: 1.2457 - accuracy: 0.6726\n",
            "\n",
            "Epoch 00082: loss did not improve from 1.24544\n",
            "Epoch 83/200\n",
            "2397/2397 [==============================] - 48s 20ms/step - loss: 1.2659 - accuracy: 0.6656\n",
            "\n",
            "Epoch 00083: loss did not improve from 1.24544\n",
            "Epoch 84/200\n",
            "2397/2397 [==============================] - 48s 20ms/step - loss: 1.2565 - accuracy: 0.6688\n",
            "\n",
            "Epoch 00084: loss did not improve from 1.24544\n",
            "Epoch 85/200\n",
            "2397/2397 [==============================] - 48s 20ms/step - loss: 1.2555 - accuracy: 0.6695\n",
            "\n",
            "Epoch 00085: loss did not improve from 1.24544\n",
            "Epoch 86/200\n",
            "2397/2397 [==============================] - 48s 20ms/step - loss: 1.2509 - accuracy: 0.6709\n",
            "\n",
            "Epoch 00086: loss did not improve from 1.24544\n",
            "Epoch 87/200\n",
            "2397/2397 [==============================] - 49s 20ms/step - loss: 1.2630 - accuracy: 0.6697\n",
            "\n",
            "Epoch 00087: loss did not improve from 1.24544\n",
            "Epoch 88/200\n",
            "2397/2397 [==============================] - 49s 20ms/step - loss: 1.2642 - accuracy: 0.6680\n",
            "\n",
            "Epoch 00088: loss did not improve from 1.24544\n",
            "Epoch 89/200\n",
            "2397/2397 [==============================] - 49s 20ms/step - loss: 1.2560 - accuracy: 0.6683\n",
            "\n",
            "Epoch 00089: loss did not improve from 1.24544\n",
            "Epoch 90/200\n",
            "2397/2397 [==============================] - 49s 20ms/step - loss: 1.2605 - accuracy: 0.6672\n",
            "\n",
            "Epoch 00090: loss did not improve from 1.24544\n",
            "Epoch 91/200\n",
            "2397/2397 [==============================] - 48s 20ms/step - loss: 1.2651 - accuracy: 0.6646\n",
            "\n",
            "Epoch 00091: loss did not improve from 1.24544\n",
            "Epoch 92/200\n",
            "2397/2397 [==============================] - 48s 20ms/step - loss: 1.2567 - accuracy: 0.6672\n",
            "\n",
            "Epoch 00092: loss did not improve from 1.24544\n",
            "Epoch 93/200\n",
            "2397/2397 [==============================] - 49s 20ms/step - loss: 1.2494 - accuracy: 0.6698\n",
            "\n",
            "Epoch 00093: loss did not improve from 1.24544\n",
            "Epoch 94/200\n",
            "2397/2397 [==============================] - 49s 20ms/step - loss: 1.2444 - accuracy: 0.6713\n",
            "\n",
            "Epoch 00094: loss improved from 1.24544 to 1.24438, saving model to /Users/robot/Downloads\\best_model.h5\n",
            "Epoch 95/200\n",
            "2397/2397 [==============================] - 49s 20ms/step - loss: 1.2587 - accuracy: 0.6683\n",
            "\n",
            "Epoch 00095: loss did not improve from 1.24438\n",
            "Epoch 96/200\n",
            "2397/2397 [==============================] - 48s 20ms/step - loss: 1.2505 - accuracy: 0.6690\n",
            "\n",
            "Epoch 00096: loss did not improve from 1.24438\n",
            "Epoch 97/200\n",
            "2397/2397 [==============================] - 49s 20ms/step - loss: 1.2411 - accuracy: 0.6728\n",
            "\n",
            "Epoch 00097: loss improved from 1.24438 to 1.24113, saving model to /Users/robot/Downloads\\best_model.h5\n",
            "Epoch 98/200\n",
            "2397/2397 [==============================] - 49s 20ms/step - loss: 1.2674 - accuracy: 0.6645\n",
            "\n",
            "Epoch 00098: loss did not improve from 1.24113\n",
            "Epoch 99/200\n",
            "2397/2397 [==============================] - 49s 20ms/step - loss: 1.2526 - accuracy: 0.6675\n",
            "\n",
            "Epoch 00099: loss did not improve from 1.24113\n",
            "Epoch 100/200\n",
            "2397/2397 [==============================] - 49s 20ms/step - loss: 1.2624 - accuracy: 0.6645\n",
            "\n",
            "Epoch 00100: loss did not improve from 1.24113\n",
            "Epoch 101/200\n",
            "2397/2397 [==============================] - 49s 20ms/step - loss: 1.2466 - accuracy: 0.6675\n",
            "\n",
            "Epoch 00101: loss did not improve from 1.24113\n",
            "Epoch 102/200\n",
            "2397/2397 [==============================] - 48s 20ms/step - loss: 1.2495 - accuracy: 0.6681\n",
            "\n",
            "Epoch 00102: loss did not improve from 1.24113\n",
            "Epoch 103/200\n",
            "2397/2397 [==============================] - 48s 20ms/step - loss: 1.2533 - accuracy: 0.6693\n",
            "\n",
            "Epoch 00103: loss did not improve from 1.24113\n",
            "Epoch 104/200\n",
            "2397/2397 [==============================] - 48s 20ms/step - loss: 1.2655 - accuracy: 0.6642\n",
            "\n",
            "Epoch 00104: loss did not improve from 1.24113\n",
            "Epoch 105/200\n",
            "2397/2397 [==============================] - 49s 20ms/step - loss: 1.2483 - accuracy: 0.6680\n",
            "\n",
            "Epoch 00105: loss did not improve from 1.24113\n",
            "Epoch 106/200\n",
            "2397/2397 [==============================] - 49s 20ms/step - loss: 1.2600 - accuracy: 0.6663\n",
            "\n",
            "Epoch 00106: loss did not improve from 1.24113\n",
            "Epoch 107/200\n",
            "2397/2397 [==============================] - 49s 20ms/step - loss: 1.2603 - accuracy: 0.6667\n",
            "\n",
            "Epoch 00107: loss did not improve from 1.24113\n",
            "Epoch 108/200\n",
            "2397/2397 [==============================] - 49s 20ms/step - loss: 1.2461 - accuracy: 0.6698\n",
            "\n",
            "Epoch 00108: loss did not improve from 1.24113\n",
            "Epoch 109/200\n",
            "2397/2397 [==============================] - 49s 20ms/step - loss: 1.2477 - accuracy: 0.6700\n",
            "\n",
            "Epoch 00109: loss did not improve from 1.24113\n",
            "Epoch 110/200\n",
            "2397/2397 [==============================] - 49s 20ms/step - loss: 1.2553 - accuracy: 0.6660\n",
            "\n",
            "Epoch 00110: loss did not improve from 1.24113\n",
            "Epoch 111/200\n",
            "2397/2397 [==============================] - 48s 20ms/step - loss: 1.2611 - accuracy: 0.6653\n",
            "\n",
            "Epoch 00111: loss did not improve from 1.24113\n",
            "Epoch 112/200\n",
            "2397/2397 [==============================] - 49s 20ms/step - loss: 1.2583 - accuracy: 0.6651\n",
            "\n",
            "Epoch 00112: loss did not improve from 1.24113\n",
            "Epoch 113/200\n",
            "2397/2397 [==============================] - 49s 20ms/step - loss: 1.2536 - accuracy: 0.6673\n",
            "\n",
            "Epoch 00113: loss did not improve from 1.24113\n",
            "Epoch 114/200\n",
            "2397/2397 [==============================] - 49s 20ms/step - loss: 1.2484 - accuracy: 0.6666\n",
            "\n",
            "Epoch 00114: loss did not improve from 1.24113\n",
            "Epoch 115/200\n",
            "2397/2397 [==============================] - 48s 20ms/step - loss: 1.2419 - accuracy: 0.6696\n",
            "\n",
            "Epoch 00115: loss did not improve from 1.24113\n",
            "Epoch 116/200\n",
            "2397/2397 [==============================] - 48s 20ms/step - loss: 1.2548 - accuracy: 0.6651\n",
            "\n",
            "Epoch 00116: loss did not improve from 1.24113\n",
            "Epoch 117/200\n",
            "2397/2397 [==============================] - 49s 20ms/step - loss: 1.2399 - accuracy: 0.6687\n",
            "\n",
            "Epoch 00117: loss improved from 1.24113 to 1.23994, saving model to /Users/robot/Downloads\\best_model.h5\n",
            "Epoch 118/200\n",
            "2397/2397 [==============================] - 49s 20ms/step - loss: 1.2419 - accuracy: 0.6675\n",
            "\n",
            "Epoch 00118: loss did not improve from 1.23994\n",
            "Epoch 119/200\n",
            "2397/2397 [==============================] - 49s 20ms/step - loss: 1.2592 - accuracy: 0.6650\n",
            "\n",
            "Epoch 00119: loss did not improve from 1.23994\n",
            "Epoch 120/200\n",
            "2397/2397 [==============================] - 49s 20ms/step - loss: 1.2612 - accuracy: 0.6643\n",
            "\n",
            "Epoch 00120: loss did not improve from 1.23994\n",
            "Epoch 121/200\n",
            "2397/2397 [==============================] - 48s 20ms/step - loss: 1.2391 - accuracy: 0.6710\n",
            "\n",
            "Epoch 00121: loss improved from 1.23994 to 1.23911, saving model to /Users/robot/Downloads\\best_model.h5\n",
            "Epoch 122/200\n",
            "2397/2397 [==============================] - 49s 20ms/step - loss: 1.2467 - accuracy: 0.6679\n",
            "\n",
            "Epoch 00122: loss did not improve from 1.23911\n",
            "Epoch 123/200\n",
            "2397/2397 [==============================] - 49s 20ms/step - loss: 1.2533 - accuracy: 0.6673\n",
            "\n",
            "Epoch 00123: loss did not improve from 1.23911\n",
            "Epoch 124/200\n",
            "2397/2397 [==============================] - 49s 20ms/step - loss: 1.2654 - accuracy: 0.6632\n",
            "\n",
            "Epoch 00124: loss did not improve from 1.23911\n",
            "Epoch 125/200\n",
            "2397/2397 [==============================] - 49s 20ms/step - loss: 1.2449 - accuracy: 0.6680\n",
            "\n",
            "Epoch 00125: loss did not improve from 1.23911\n",
            "Epoch 126/200\n",
            "2397/2397 [==============================] - 48s 20ms/step - loss: 1.2413 - accuracy: 0.6690\n",
            "\n",
            "Epoch 00126: loss did not improve from 1.23911\n",
            "Epoch 127/200\n",
            "2397/2397 [==============================] - 49s 20ms/step - loss: 1.2600 - accuracy: 0.6642\n",
            "\n",
            "Epoch 00127: loss did not improve from 1.23911\n",
            "Epoch 128/200\n",
            "2397/2397 [==============================] - 48s 20ms/step - loss: 1.2413 - accuracy: 0.6695\n",
            "\n",
            "Epoch 00128: loss did not improve from 1.23911\n",
            "Epoch 129/200\n",
            "2397/2397 [==============================] - 49s 20ms/step - loss: 1.2423 - accuracy: 0.6678\n",
            "\n",
            "Epoch 00129: loss did not improve from 1.23911\n",
            "Epoch 130/200\n",
            "2397/2397 [==============================] - 48s 20ms/step - loss: 1.2511 - accuracy: 0.6671\n",
            "\n",
            "Epoch 00130: loss did not improve from 1.23911\n",
            "Epoch 131/200\n",
            "2397/2397 [==============================] - 48s 20ms/step - loss: 1.2629 - accuracy: 0.6646\n",
            "\n",
            "Epoch 00131: loss did not improve from 1.23911\n",
            "Epoch 132/200\n",
            "2397/2397 [==============================] - 48s 20ms/step - loss: 1.2702 - accuracy: 0.6625\n",
            "\n",
            "Epoch 00132: loss did not improve from 1.23911\n",
            "Epoch 133/200\n",
            "2397/2397 [==============================] - 49s 20ms/step - loss: 1.2550 - accuracy: 0.6646\n",
            "\n",
            "Epoch 00133: loss did not improve from 1.23911\n",
            "Epoch 134/200\n",
            "2397/2397 [==============================] - 49s 20ms/step - loss: 1.2609 - accuracy: 0.6638\n",
            "\n",
            "Epoch 00134: loss did not improve from 1.23911\n",
            "Epoch 135/200\n",
            "2397/2397 [==============================] - 49s 20ms/step - loss: 1.2619 - accuracy: 0.6624\n",
            "\n",
            "Epoch 00135: loss did not improve from 1.23911\n",
            "Epoch 136/200\n",
            "2397/2397 [==============================] - 49s 20ms/step - loss: 1.2692 - accuracy: 0.6610\n",
            "\n",
            "Epoch 00136: loss did not improve from 1.23911\n",
            "Epoch 137/200\n",
            "2397/2397 [==============================] - 49s 20ms/step - loss: 1.2684 - accuracy: 0.6638\n",
            "\n",
            "Epoch 00137: loss did not improve from 1.23911\n",
            "Epoch 138/200\n",
            "2397/2397 [==============================] - 49s 20ms/step - loss: 1.2858 - accuracy: 0.6578\n",
            "\n",
            "Epoch 00138: loss did not improve from 1.23911\n",
            "Epoch 139/200\n",
            "2397/2397 [==============================] - 49s 20ms/step - loss: 1.2542 - accuracy: 0.6647\n",
            "\n",
            "Epoch 00139: loss did not improve from 1.23911\n",
            "Epoch 140/200\n",
            "2397/2397 [==============================] - 49s 20ms/step - loss: 1.2777 - accuracy: 0.6599\n",
            "\n",
            "Epoch 00140: loss did not improve from 1.23911\n",
            "Epoch 141/200\n",
            "2397/2397 [==============================] - 48s 20ms/step - loss: 1.2711 - accuracy: 0.6606\n",
            "\n",
            "Epoch 00141: loss did not improve from 1.23911\n",
            "Epoch 142/200\n",
            "2397/2397 [==============================] - 48s 20ms/step - loss: 1.2615 - accuracy: 0.6638\n",
            "\n",
            "Epoch 00142: loss did not improve from 1.23911\n",
            "Epoch 143/200\n",
            "2397/2397 [==============================] - 49s 20ms/step - loss: 1.2601 - accuracy: 0.6632\n",
            "\n",
            "Epoch 00143: loss did not improve from 1.23911\n",
            "Epoch 144/200\n",
            "2397/2397 [==============================] - 49s 20ms/step - loss: 1.2627 - accuracy: 0.6621\n",
            "\n",
            "Epoch 00144: loss did not improve from 1.23911\n",
            "Epoch 145/200\n",
            "2397/2397 [==============================] - 49s 20ms/step - loss: 1.2620 - accuracy: 0.6612\n",
            "\n",
            "Epoch 00145: loss did not improve from 1.23911\n",
            "Epoch 146/200\n",
            "2397/2397 [==============================] - 49s 20ms/step - loss: 1.2717 - accuracy: 0.6613\n",
            "\n",
            "Epoch 00146: loss did not improve from 1.23911\n",
            "Epoch 147/200\n",
            "2397/2397 [==============================] - 49s 20ms/step - loss: 1.2621 - accuracy: 0.6643\n",
            "\n",
            "Epoch 00147: loss did not improve from 1.23911\n",
            "Epoch 148/200\n",
            "2397/2397 [==============================] - 49s 20ms/step - loss: 1.2869 - accuracy: 0.6556\n",
            "\n",
            "Epoch 00148: loss did not improve from 1.23911\n",
            "Epoch 149/200\n",
            "2397/2397 [==============================] - 49s 20ms/step - loss: 1.2925 - accuracy: 0.6538\n",
            "\n",
            "Epoch 00149: loss did not improve from 1.23911\n",
            "Epoch 150/200\n",
            "2397/2397 [==============================] - 48s 20ms/step - loss: 1.2740 - accuracy: 0.6594\n",
            "\n",
            "Epoch 00150: loss did not improve from 1.23911\n",
            "Epoch 151/200\n",
            "2397/2397 [==============================] - 49s 20ms/step - loss: 1.2628 - accuracy: 0.6614\n",
            "\n",
            "Epoch 00151: loss did not improve from 1.23911\n",
            "Epoch 152/200\n",
            "2397/2397 [==============================] - 48s 20ms/step - loss: 1.2893 - accuracy: 0.6574\n",
            "\n",
            "Epoch 00152: loss did not improve from 1.23911\n",
            "Epoch 153/200\n",
            "2397/2397 [==============================] - 49s 20ms/step - loss: 1.2765 - accuracy: 0.6582\n",
            "\n",
            "Epoch 00153: loss did not improve from 1.23911\n",
            "Epoch 154/200\n",
            "2397/2397 [==============================] - 49s 20ms/step - loss: 1.2770 - accuracy: 0.6589\n",
            "\n",
            "Epoch 00154: loss did not improve from 1.23911\n",
            "Epoch 155/200\n",
            "2397/2397 [==============================] - 49s 20ms/step - loss: 1.2674 - accuracy: 0.6608\n",
            "\n",
            "Epoch 00155: loss did not improve from 1.23911\n",
            "Epoch 156/200\n",
            "2397/2397 [==============================] - 49s 20ms/step - loss: 1.2972 - accuracy: 0.6532\n",
            "\n",
            "Epoch 00156: loss did not improve from 1.23911\n",
            "Epoch 157/200\n",
            "2397/2397 [==============================] - 49s 20ms/step - loss: 1.2850 - accuracy: 0.6569\n",
            "\n",
            "Epoch 00157: loss did not improve from 1.23911\n",
            "Epoch 158/200\n",
            "2397/2397 [==============================] - 49s 20ms/step - loss: 1.2709 - accuracy: 0.6597\n",
            "\n",
            "Epoch 00158: loss did not improve from 1.23911\n",
            "Epoch 159/200\n",
            "2397/2397 [==============================] - 48s 20ms/step - loss: 1.2900 - accuracy: 0.6548\n",
            "\n",
            "Epoch 00159: loss did not improve from 1.23911\n",
            "Epoch 160/200\n",
            "2397/2397 [==============================] - 49s 20ms/step - loss: 1.2909 - accuracy: 0.6544\n",
            "\n",
            "Epoch 00160: loss did not improve from 1.23911\n",
            "Epoch 161/200\n",
            "2397/2397 [==============================] - 48s 20ms/step - loss: 1.2663 - accuracy: 0.6603\n",
            "\n",
            "Epoch 00161: loss did not improve from 1.23911\n",
            "Epoch 162/200\n",
            "2397/2397 [==============================] - 48s 20ms/step - loss: 1.3012 - accuracy: 0.6546\n",
            "\n",
            "Epoch 00162: loss did not improve from 1.23911\n",
            "Epoch 163/200\n",
            "2397/2397 [==============================] - 49s 20ms/step - loss: 1.3053 - accuracy: 0.6505\n",
            "\n",
            "Epoch 00163: loss did not improve from 1.23911\n",
            "Epoch 164/200\n",
            "2397/2397 [==============================] - 49s 20ms/step - loss: 1.2893 - accuracy: 0.6557\n",
            "\n",
            "Epoch 00164: loss did not improve from 1.23911\n",
            "Epoch 165/200\n",
            "2397/2397 [==============================] - 49s 20ms/step - loss: 1.2848 - accuracy: 0.6559\n",
            "\n",
            "Epoch 00165: loss did not improve from 1.23911\n",
            "Epoch 166/200\n",
            "2397/2397 [==============================] - 49s 20ms/step - loss: 1.2942 - accuracy: 0.6533\n",
            "\n",
            "Epoch 00166: loss did not improve from 1.23911\n",
            "Epoch 167/200\n",
            "2397/2397 [==============================] - 49s 20ms/step - loss: 1.2721 - accuracy: 0.6601\n",
            "\n",
            "Epoch 00167: loss did not improve from 1.23911\n",
            "Epoch 168/200\n",
            "2397/2397 [==============================] - 49s 20ms/step - loss: 1.2894 - accuracy: 0.6545\n",
            "\n",
            "Epoch 00168: loss did not improve from 1.23911\n",
            "Epoch 169/200\n",
            "2397/2397 [==============================] - 48s 20ms/step - loss: 1.2998 - accuracy: 0.6532\n",
            "\n",
            "Epoch 00169: loss did not improve from 1.23911\n",
            "Epoch 170/200\n",
            "2397/2397 [==============================] - 49s 20ms/step - loss: 1.2847 - accuracy: 0.6585\n",
            "\n",
            "Epoch 00170: loss did not improve from 1.23911\n",
            "Epoch 171/200\n",
            "2397/2397 [==============================] - 49s 20ms/step - loss: 1.3077 - accuracy: 0.6498\n",
            "\n",
            "Epoch 00171: loss did not improve from 1.23911\n",
            "Epoch 172/200\n",
            "2397/2397 [==============================] - 49s 20ms/step - loss: 1.3141 - accuracy: 0.6514\n",
            "\n",
            "Epoch 00172: loss did not improve from 1.23911\n",
            "Epoch 173/200\n",
            "2397/2397 [==============================] - 49s 20ms/step - loss: 1.2858 - accuracy: 0.6562\n",
            "\n",
            "Epoch 00173: loss did not improve from 1.23911\n",
            "Epoch 174/200\n",
            "2397/2397 [==============================] - 49s 20ms/step - loss: 1.2926 - accuracy: 0.6561\n",
            "\n",
            "Epoch 00174: loss did not improve from 1.23911\n",
            "Epoch 175/200\n",
            "2397/2397 [==============================] - 49s 20ms/step - loss: 1.3065 - accuracy: 0.6509\n",
            "\n",
            "Epoch 00175: loss did not improve from 1.23911\n",
            "Epoch 176/200\n",
            "2397/2397 [==============================] - 49s 20ms/step - loss: 1.2934 - accuracy: 0.6546\n",
            "\n",
            "Epoch 00176: loss did not improve from 1.23911\n",
            "Epoch 177/200\n",
            "2397/2397 [==============================] - 49s 20ms/step - loss: 1.3142 - accuracy: 0.6500\n",
            "\n",
            "Epoch 00177: loss did not improve from 1.23911\n",
            "Epoch 178/200\n",
            "2397/2397 [==============================] - 49s 20ms/step - loss: 1.2973 - accuracy: 0.6539\n",
            "\n",
            "Epoch 00178: loss did not improve from 1.23911\n",
            "Epoch 179/200\n",
            "2397/2397 [==============================] - 49s 20ms/step - loss: 1.3009 - accuracy: 0.6527\n",
            "\n",
            "Epoch 00179: loss did not improve from 1.23911\n",
            "Epoch 180/200\n",
            "2397/2397 [==============================] - 49s 20ms/step - loss: 1.3106 - accuracy: 0.6486\n",
            "\n",
            "Epoch 00180: loss did not improve from 1.23911\n",
            "Epoch 181/200\n",
            "2397/2397 [==============================] - 48s 20ms/step - loss: 1.3211 - accuracy: 0.6481\n",
            "\n",
            "Epoch 00181: loss did not improve from 1.23911\n",
            "Epoch 182/200\n",
            "2397/2397 [==============================] - 49s 20ms/step - loss: 1.3122 - accuracy: 0.6475\n",
            "\n",
            "Epoch 00182: loss did not improve from 1.23911\n",
            "Epoch 183/200\n",
            "2397/2397 [==============================] - 48s 20ms/step - loss: 1.2978 - accuracy: 0.6521\n",
            "\n",
            "Epoch 00183: loss did not improve from 1.23911\n",
            "Epoch 184/200\n",
            "2397/2397 [==============================] - 49s 20ms/step - loss: 1.3353 - accuracy: 0.6453\n",
            "\n",
            "Epoch 00184: loss did not improve from 1.23911\n",
            "Epoch 185/200\n",
            "2397/2397 [==============================] - 49s 20ms/step - loss: 1.3329 - accuracy: 0.6445\n",
            "\n",
            "Epoch 00185: loss did not improve from 1.23911\n",
            "Epoch 186/200\n",
            "2397/2397 [==============================] - 49s 20ms/step - loss: 1.3099 - accuracy: 0.6496\n",
            "\n",
            "Epoch 00186: loss did not improve from 1.23911\n",
            "Epoch 187/200\n",
            "2397/2397 [==============================] - 48s 20ms/step - loss: 1.3073 - accuracy: 0.6514\n",
            "\n",
            "Epoch 00187: loss did not improve from 1.23911\n",
            "Epoch 188/200\n",
            "2397/2397 [==============================] - 49s 21ms/step - loss: 1.3030 - accuracy: 0.6494\n",
            "\n",
            "Epoch 00188: loss did not improve from 1.23911\n",
            "Epoch 189/200\n",
            "2397/2397 [==============================] - 49s 20ms/step - loss: 1.3236 - accuracy: 0.6467\n",
            "\n",
            "Epoch 00189: loss did not improve from 1.23911\n",
            "Epoch 190/200\n",
            "2397/2397 [==============================] - 49s 20ms/step - loss: 1.3468 - accuracy: 0.6400\n",
            "\n",
            "Epoch 00190: loss did not improve from 1.23911\n",
            "Epoch 191/200\n",
            "2397/2397 [==============================] - 49s 20ms/step - loss: 1.3346 - accuracy: 0.6421\n",
            "\n",
            "Epoch 00191: loss did not improve from 1.23911\n",
            "Epoch 192/200\n",
            "2397/2397 [==============================] - 49s 20ms/step - loss: 1.3379 - accuracy: 0.6429\n",
            "\n",
            "Epoch 00192: loss did not improve from 1.23911\n",
            "Epoch 193/200\n",
            "2397/2397 [==============================] - 49s 20ms/step - loss: 1.3354 - accuracy: 0.6443\n",
            "\n",
            "Epoch 00193: loss did not improve from 1.23911\n",
            "Epoch 194/200\n",
            "2397/2397 [==============================] - 49s 20ms/step - loss: 1.3343 - accuracy: 0.6444\n",
            "\n",
            "Epoch 00194: loss did not improve from 1.23911\n",
            "Epoch 195/200\n",
            "2397/2397 [==============================] - 49s 20ms/step - loss: 1.3427 - accuracy: 0.6408\n",
            "\n",
            "Epoch 00195: loss did not improve from 1.23911\n",
            "Epoch 196/200\n",
            "2397/2397 [==============================] - 49s 20ms/step - loss: 1.3518 - accuracy: 0.6400\n",
            "\n",
            "Epoch 00196: loss did not improve from 1.23911\n",
            "Epoch 197/200\n",
            "2397/2397 [==============================] - 49s 20ms/step - loss: 1.3359 - accuracy: 0.6435\n",
            "\n",
            "Epoch 00197: loss did not improve from 1.23911\n",
            "Epoch 198/200\n",
            "2397/2397 [==============================] - 49s 20ms/step - loss: 1.3353 - accuracy: 0.6451\n",
            "\n",
            "Epoch 00198: loss did not improve from 1.23911\n",
            "Epoch 199/200\n",
            "2397/2397 [==============================] - 49s 20ms/step - loss: 1.3379 - accuracy: 0.6425\n",
            "\n",
            "Epoch 00199: loss did not improve from 1.23911\n",
            "Epoch 200/200\n",
            "2397/2397 [==============================] - 48s 20ms/step - loss: 1.3457 - accuracy: 0.6414\n",
            "\n",
            "Epoch 00200: loss did not improve from 1.23911\n"
          ],
          "name": "stdout"
        }
      ]
    },
    {
      "cell_type": "code",
      "metadata": {
        "colab": {
          "base_uri": "https://localhost:8080/"
        },
        "id": "eMDEGWTwoFNx",
        "outputId": "ccb0f166-9029-4fb5-b1ca-d8f94c6deea3"
      },
      "source": [
        "musicModel.evaluate(x_val,y_val)"
      ],
      "execution_count": null,
      "outputs": [
        {
          "output_type": "stream",
          "text": [
            "600/600 [==============================] - 6s 9ms/step - loss: 10.3402 - accuracy: 0.0175\n"
          ],
          "name": "stdout"
        },
        {
          "output_type": "execute_result",
          "data": {
            "text/plain": [
              "[10.340234756469727, 0.01752464473247528]"
            ]
          },
          "metadata": {
            "tags": []
          },
          "execution_count": 40
        }
      ]
    },
    {
      "cell_type": "markdown",
      "metadata": {
        "id": "lAdvSHCIL7dd"
      },
      "source": [
        "## Prediction"
      ]
    },
    {
      "cell_type": "code",
      "metadata": {
        "id": "KOR3re7RL_Jg"
      },
      "source": [
        "def makeMusic(n):\n",
        "  # Loading the best model\n",
        "  musicModel = Sequential()\n",
        "  musicModel.add(LSTM(\n",
        "    512,\n",
        "    input_shape=(x_tr.shape[1],x_tr.shape[2]),\n",
        "    return_sequences=True\n",
        "  ))\n",
        "  musicModel.add(LSTM(256))\n",
        "  musicModel.add(Dense(256))\n",
        "  musicModel.add(Dense(len(unique_x)))\n",
        "  musicModel.add(Activation('softmax'))\n",
        "\n",
        "  musicModel.compile(loss='categorical_crossentropy', optimizer='rmsprop',metrics=['accuracy'])\n",
        "\n",
        "  musicModel.load_weights('/content/accuracy67.h5')\n",
        "\n",
        "\n",
        "  ind = np.random.randint(0,len(x_val)-1)\n",
        "\n",
        "  random_music = x_val[ind]\n",
        "\n",
        "  predictions=[]\n",
        "  for i in range(n):\n",
        "\n",
        "      random_music = np.reshape(random_music,(1,tsteps,1))\n",
        "\n",
        "      prob  = musicModel.predict(random_music)\n",
        "      y_pred= np.argmax(prob)\n",
        "      predictions.append(y_pred)\n",
        "\n",
        "      random_music = np.append(random_music,y_pred)\n",
        "      random_music = random_music[1:tsteps+1]\n",
        "      \n",
        "  print(predictions)\n",
        "  return predictions"
      ],
      "execution_count": null,
      "outputs": []
    },
    {
      "cell_type": "code",
      "metadata": {
        "id": "p_dl1l_fMHD_"
      },
      "source": [
        "predictions=makeMusic(500)\n",
        "x_int_to_note = dict((number, note_) for number, note_ in enumerate(unique_x)) \n",
        "predicted_notes = [x_int_to_note[i] for i in predictions]"
      ],
      "execution_count": null,
      "outputs": []
    },
    {
      "cell_type": "markdown",
      "metadata": {
        "id": "lha4WnP2MMqd"
      },
      "source": [
        "## Convert predictions back to midi audio file"
      ]
    },
    {
      "cell_type": "code",
      "metadata": {
        "id": "Jt0mYM6jMTbQ"
      },
      "source": [
        "convert_to_midi(predicted_notes,'/content/AIBBA5.mid')"
      ],
      "execution_count": null,
      "outputs": []
    },
    {
      "cell_type": "markdown",
      "metadata": {
        "id": "_bK3n6KxdtdR"
      },
      "source": [
        "# Our ABBA song"
      ]
    },
    {
      "cell_type": "markdown",
      "metadata": {
        "id": "5Nj_BQjFyhDA"
      },
      "source": [
        "## Lyrics"
      ]
    },
    {
      "cell_type": "code",
      "metadata": {
        "colab": {
          "base_uri": "https://localhost:8080/"
        },
        "id": "l9kTpAYc-mtu",
        "outputId": "7e4ad2fd-6ba2-4f8a-f65b-8ae836183616"
      },
      "source": [
        "aux=['Andy ', 'Silver ', 'LuisFer ', 'Mario' ]*2\n",
        "makeLyrics(aux, 250)"
      ],
      "execution_count": null,
      "outputs": [
        {
          "output_type": "stream",
          "text": [
            "Andy e on the ground\n",
            "Andante, Andante\n",
            "Oh please don't let me down\n",
            "\n",
            "Make me sing, make me sound\n",
            "(You make me sing and you make me...)\n",
            "Andante, Andante\n",
            "Tread lightly on my ground\n",
            "Andante, Andante\n",
            "Oh please don't let me down \n",
            "\n",
            "You and I can share the silence \n",
            "\n",
            "Silver rieve in fairy-tales\n",
            "Sweet nothings in my ear\n",
            "But I do believe in sympathy\n",
            "Gotta have love to carry on living\n",
            "Gotta have love 'till eternity\n",
            "\n",
            "People need hope, people need loving\n",
            "People need trust from a fellow man\n",
            "People need love to make a good liv \n",
            "\n",
            "LuisFer and night like this\n",
            "Now I see them clearly, the things that I miss\n",
            "Oh no no no no\n",
            "\n",
            "Ah-ha-ha, ah-aaaah\n",
            "Ah-ha-ha, ah-aaaah\n",
            "\n",
            "Ah-ha-ha, keep thinking 'bout his angeleyes\n",
            "I keep thinking, a-aaah\n",
            "\n",
            "Sometimes when I'm love 's you honey)\n",
            "Take a chance on me\n",
            "\n",
            " \n",
            "\n",
            "Marioan\n",
            "I wouldn't help it, it had to be you and I\n",
            "Always thought you knew the reason why\n",
            "I only wanted a little love affair\n",
            "Now I can see you are beginning to care\n",
            "But baby, believe me\n",
            "It's better to forget me\n",
            "\n",
            "Men are the toys in the game that you play\n",
            " \n",
            "\n",
            "Andy e on the gree\n",
            "He'll take your heart and you must pay the price\n",
            "Look into his angeleyes\n",
            "You'll think you're in paradise\n",
            "And one day you'll find out he wears a disguise\n",
            "Don't look too deep into his angeleyes\n",
            "One look and you're hypnotized\n",
            "He'll take yo \n",
            "\n",
            "Silver rieve in fairy-tales\n",
            "Sweet nothings in my ear\n",
            "But I do believe in sympathy\n",
            "Gotta have love to carry on living\n",
            "Gotta have love 'till eternity\n",
            "\n",
            "People need hope, people need loving\n",
            "People need trust from a fellow man\n",
            "People need love to make a good liv \n",
            "\n",
            "LuisFer always Giddle\n",
            "And I dream I can spread my wings\n",
            "Flying high, high, I'm a bird in the sky\n",
            "(I'm an eagle)\n",
            "I'm an eagle that rides on the breeze\n",
            "High, high, what a feeling to fly\n",
            "(What a feeling)\n",
            "Over mountains and forests and seas\n",
            "And to go anywhere th \n",
            "\n",
            "Marioan\n",
            "I wouldn't help it, it had to be you and I\n",
            "Always thought you knew the reason why\n",
            "I only wanted a little love affair\n",
            "Now I can see you are beginning to care\n",
            "But baby, believe me\n",
            "It's better to forget me\n",
            "\n",
            "Men are the toys in the game that you play\n",
            " \n",
            "\n",
            "________________________________________________________________________________\n",
            "Run time: 5.297551155090332\n"
          ],
          "name": "stdout"
        }
      ]
    },
    {
      "cell_type": "markdown",
      "metadata": {
        "id": "vlntv2FbyVoU"
      },
      "source": [
        "## Music"
      ]
    },
    {
      "cell_type": "code",
      "metadata": {
        "id": "3JMGJjLjynNG",
        "colab": {
          "base_uri": "https://localhost:8080/"
        },
        "outputId": "307231eb-448b-4389-b975-8aa4c6a9eb95"
      },
      "source": [
        "predictions=makeMusic(500)\n",
        "x_int_to_note = dict((number, note_) for number, note_ in enumerate(unique_x)) \n",
        "predicted_notes = [x_int_to_note[i] for i in predictions]\n",
        "convert_to_midi(predicted_notes,'/content/AIBBA7.mid')"
      ],
      "execution_count": null,
      "outputs": [
        {
          "output_type": "stream",
          "text": [
            "[126, 95, 70, 91, 6, 18, 123, 76, 76, 18, 172, 167, 5, 120, 172, 150, 161, 17, 2, 28, 187, 167, 169, 64, 18, 155, 77, 104, 24, 142, 35, 184, 44, 17, 107, 151, 5, 59, 196, 195, 35, 137, 74, 23, 96, 6, 117, 76, 142, 31, 88, 143, 48, 181, 88, 10, 57, 24, 181, 18, 127, 181, 57, 64, 22, 123, 143, 138, 88, 126, 181, 143, 134, 85, 96, 142, 35, 200, 27, 104, 161, 54, 76, 142, 31, 159, 51, 91, 1, 187, 134, 51, 143, 161, 125, 24, 124, 68, 123, 24, 145, 81, 52, 125, 52, 126, 181, 74, 29, 187, 174, 51, 153, 117, 57, 30, 176, 125, 184, 167, 141, 70, 111, 198, 151, 104, 9, 201, 81, 145, 153, 81, 143, 126, 126, 202, 71, 202, 143, 202, 177, 177, 81, 143, 143, 81, 17, 183, 52, 186, 72, 92, 101, 9, 179, 71, 81, 145, 123, 78, 81, 52, 10, 86, 104, 159, 168, 67, 133, 7, 177, 17, 94, 94, 44, 191, 72, 81, 136, 150, 202, 189, 202, 67, 67, 185, 49, 191, 39, 18, 27, 43, 55, 181, 161, 17, 29, 101, 167, 101, 18, 7, 54, 91, 29, 29, 77, 57, 177, 177, 177, 143, 18, 63, 63, 176, 173, 143, 188, 143, 24, 183, 123, 24, 105, 30, 88, 126, 51, 176, 52, 95, 88, 187, 141, 64, 124, 50, 50, 96, 45, 161, 156, 134, 49, 9, 143, 27, 186, 26, 49, 177, 30, 201, 74, 10, 101, 9, 61, 17, 60, 54, 36, 2, 78, 23, 126, 117, 143, 183, 183, 91, 181, 105, 64, 123, 64, 155, 24, 151, 49, 51, 9, 88, 59, 161, 52, 151, 117, 151, 191, 117, 87, 64, 18, 105, 191, 189, 125, 126, 29, 145, 167, 91, 143, 81, 143, 117, 181, 139, 177, 125, 57, 126, 187, 153, 123, 117, 108, 145, 143, 187, 134, 134, 187, 29, 125, 113, 125, 145, 145, 202, 126, 51, 202, 83, 189, 24, 137, 24, 64, 30, 80, 68, 77, 57, 81, 64, 81, 123, 166, 189, 161, 123, 156, 7, 96, 123, 110, 64, 123, 148, 18, 35, 79, 85, 83, 52, 172, 52, 70, 92, 81, 9, 76, 76, 140, 59, 126, 39, 198, 49, 177, 138, 71, 134, 64, 138, 27, 150, 174, 54, 74, 161, 52, 191, 52, 46, 177, 176, 191, 18, 124, 197, 49, 133, 183, 55, 39, 179, 127, 139, 76, 156, 202, 88, 145, 68, 56, 111, 183, 10, 10, 177, 9, 143, 184, 168, 18, 91, 91, 39, 56, 9, 49, 197, 30, 195, 176, 203, 202, 141, 202, 126, 126, 161, 52, 177, 176, 127, 94, 9, 52, 124, 177, 31, 91, 195, 166, 156, 81, 183, 54, 64, 17, 123, 181, 80, 52, 196, 72, 75, 35, 35, 91, 187, 64, 143, 176, 39, 55, 133, 35, 201, 74, 95, 181, 49, 68, 201, 142, 202, 168, 39, 126, 195, 79, 77, 143, 35]\n"
          ],
          "name": "stdout"
        }
      ]
    }
  ]
}